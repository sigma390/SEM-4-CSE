{
 "cells": [
  {
   "cell_type": "code",
   "execution_count": 3,
   "id": "cc372c61",
   "metadata": {},
   "outputs": [
    {
     "name": "stdout",
     "output_type": "stream",
     "text": [
      "booboo,cats,dogs,fishes,\n"
     ]
    }
   ],
   "source": [
    "with open(\"my.txt\",'r') as file :\n",
    "    f = file.read()\n",
    "\n",
    "print(f)"
   ]
  },
  {
   "cell_type": "code",
   "execution_count": 4,
   "id": "e734f1c5",
   "metadata": {},
   "outputs": [
    {
     "name": "stdout",
     "output_type": "stream",
     "text": [
      "booboo,cats,dogs,fishes,\n",
      "HII I NAME IS GOKU\n"
     ]
    }
   ],
   "source": [
    "#write to a file\n",
    "\n",
    "with open(\"my.txt\",'a') as f :\n",
    "    f.write(\"\\nHII I NAME IS GOKU\")\n",
    "with open(\"my.txt\",'r') as file :\n",
    "    f = file.read()\n",
    "\n",
    "print(f)"
   ]
  },
  {
   "cell_type": "code",
   "execution_count": 6,
   "id": "0101dc39",
   "metadata": {},
   "outputs": [
    {
     "name": "stdout",
     "output_type": "stream",
     "text": [
      "booboo,cats,dogs,fishes,\n",
      "HII I NAME IS GOKUcats,dogs,fishes,rats,cats,dogs,fishes,rats,\n"
     ]
    }
   ],
   "source": [
    "#write list content to a file\n",
    "li = [\"cats\", \"dogs\",\"fishes\",\"rats\"]\n",
    "with open(\"my.txt\",\"a\")as f:\n",
    "    for item in li :\n",
    "        f.write(item +\",\")\n",
    "\n",
    "with open(\"my.txt\",'r') as file :\n",
    "    f = file.read()\n",
    "print(f)"
   ]
  },
  {
   "cell_type": "code",
   "execution_count": 7,
   "id": "79857807",
   "metadata": {},
   "outputs": [
    {
     "data": {
      "text/plain": [
       "['booboo,cats,dogs,fishes,\\n',\n",
       " 'HII I NAME IS GOKUcats,dogs,fishes,rats,cats,dogs,fishes,rats,']"
      ]
     },
     "execution_count": 7,
     "metadata": {},
     "output_type": "execute_result"
    }
   ],
   "source": [
    "#content of file to a list use for loop\n",
    "li1 = []\n",
    "with open(\"my.txt\",'r') as file :\n",
    "    for i in file :\n",
    "       li1.append(i) \n",
    "li1"
   ]
  },
  {
   "cell_type": "code",
   "execution_count": 8,
   "id": "0f3c3ab0",
   "metadata": {},
   "outputs": [
    {
     "name": "stdout",
     "output_type": "stream",
     "text": [
      "['LatD', ' \"LatM\"', ' \"LatS\"', ' \"NS\"', ' \"LonD\"', ' \"LonM\"', ' \"LonS\"', ' \"EW\"', ' \"City\"', ' \"State\"']\n",
      "['   41', '    5', '   59', ' \"N\"', '     80', '   39', '    0', ' \"W\"', ' \"Youngstown\"', ' OH']\n",
      "['   42', '   52', '   48', ' \"N\"', '     97', '   23', '   23', ' \"W\"', ' \"Yankton\"', ' SD']\n",
      "['   46', '   35', '   59', ' \"N\"', '    120', '   30', '   36', ' \"W\"', ' \"Yakima\"', ' WA']\n",
      "['   42', '   16', '   12', ' \"N\"', '     71', '   48', '    0', ' \"W\"', ' \"Worcester\"', ' MA']\n",
      "['   43', '   37', '   48', ' \"N\"', '     89', '   46', '   11', ' \"W\"', ' \"Wisconsin Dells\"', ' WI']\n",
      "['   36', '    5', '   59', ' \"N\"', '     80', '   15', '    0', ' \"W\"', ' \"Winston-Salem\"', ' NC']\n",
      "['   49', '   52', '   48', ' \"N\"', '     97', '    9', '    0', ' \"W\"', ' \"Winnipeg\"', ' MB']\n",
      "['   39', '   11', '   23', ' \"N\"', '     78', '    9', '   36', ' \"W\"', ' \"Winchester\"', ' VA']\n",
      "['   34', '   14', '   24', ' \"N\"', '     77', '   55', '   11', ' \"W\"', ' \"Wilmington\"', ' NC']\n",
      "['   39', '   45', '    0', ' \"N\"', '     75', '   33', '    0', ' \"W\"', ' \"Wilmington\"', ' DE']\n",
      "['   48', '    9', '    0', ' \"N\"', '    103', '   37', '   12', ' \"W\"', ' \"Williston\"', ' ND']\n",
      "['   41', '   15', '    0', ' \"N\"', '     77', '    0', '    0', ' \"W\"', ' \"Williamsport\"', ' PA']\n",
      "['   37', '   40', '   48', ' \"N\"', '     82', '   16', '   47', ' \"W\"', ' \"Williamson\"', ' WV']\n",
      "['   33', '   54', '    0', ' \"N\"', '     98', '   29', '   23', ' \"W\"', ' \"Wichita Falls\"', ' TX']\n",
      "['   37', '   41', '   23', ' \"N\"', '     97', '   20', '   23', ' \"W\"', ' \"Wichita\"', ' KS']\n",
      "['   40', '    4', '   11', ' \"N\"', '     80', '   43', '   12', ' \"W\"', ' \"Wheeling\"', ' WV']\n",
      "['   26', '   43', '   11', ' \"N\"', '     80', '    3', '    0', ' \"W\"', ' \"West Palm Beach\"', ' FL']\n",
      "['   47', '   25', '   11', ' \"N\"', '    120', '   19', '   11', ' \"W\"', ' \"Wenatchee\"', ' WA']\n",
      "['   41', '   25', '   11', ' \"N\"', '    122', '   23', '   23', ' \"W\"', ' \"Weed\"', ' CA']\n",
      "['   31', '   13', '   11', ' \"N\"', '     82', '   20', '   59', ' \"W\"', ' \"Waycross\"', ' GA']\n",
      "['   44', '   57', '   35', ' \"N\"', '     89', '   38', '   23', ' \"W\"', ' \"Wausau\"', ' WI']\n",
      "['   42', '   21', '   36', ' \"N\"', '     87', '   49', '   48', ' \"W\"', ' \"Waukegan\"', ' IL']\n",
      "['   44', '   54', '    0', ' \"N\"', '     97', '    6', '   36', ' \"W\"', ' \"Watertown\"', ' SD']\n",
      "['   43', '   58', '   47', ' \"N\"', '     75', '   55', '   11', ' \"W\"', ' \"Watertown\"', ' NY']\n",
      "['   42', '   30', '    0', ' \"N\"', '     92', '   20', '   23', ' \"W\"', ' \"Waterloo\"', ' IA']\n",
      "['   41', '   32', '   59', ' \"N\"', '     73', '    3', '    0', ' \"W\"', ' \"Waterbury\"', ' CT']\n",
      "['   38', '   53', '   23', ' \"N\"', '     77', '    1', '   47', ' \"W\"', ' \"Washington\"', ' DC']\n",
      "['   41', '   50', '   59', ' \"N\"', '     79', '    8', '   23', ' \"W\"', ' \"Warren\"', ' PA']\n",
      "['   46', '    4', '   11', ' \"N\"', '    118', '   19', '   48', ' \"W\"', ' \"Walla Walla\"', ' WA']\n",
      "['   31', '   32', '   59', ' \"N\"', '     97', '    8', '   23', ' \"W\"', ' \"Waco\"', ' TX']\n",
      "['   38', '   40', '   48', ' \"N\"', '     87', '   31', '   47', ' \"W\"', ' \"Vincennes\"', ' IN']\n",
      "['   28', '   48', '   35', ' \"N\"', '     97', '    0', '   36', ' \"W\"', ' \"Victoria\"', ' TX']\n",
      "['   32', '   20', '   59', ' \"N\"', '     90', '   52', '   47', ' \"W\"', ' \"Vicksburg\"', ' MS']\n",
      "['   49', '   16', '   12', ' \"N\"', '    123', '    7', '   12', ' \"W\"', ' \"Vancouver\"', ' BC']\n",
      "['   46', '   55', '   11', ' \"N\"', '     98', '    0', '   36', ' \"W\"', ' \"Valley City\"', ' ND']\n",
      "['   30', '   49', '   47', ' \"N\"', '     83', '   16', '   47', ' \"W\"', ' \"Valdosta\"', ' GA']\n",
      "['   43', '    6', '   36', ' \"N\"', '     75', '   13', '   48', ' \"W\"', ' \"Utica\"', ' NY']\n",
      "['   39', '   54', '    0', ' \"N\"', '     79', '   43', '   48', ' \"W\"', ' \"Uniontown\"', ' PA']\n",
      "['   32', '   20', '   59', ' \"N\"', '     95', '   18', '    0', ' \"W\"', ' \"Tyler\"', ' TX']\n",
      "['   42', '   33', '   36', ' \"N\"', '    114', '   28', '   12', ' \"W\"', ' \"Twin Falls\"', ' ID']\n",
      "['   33', '   12', '   35', ' \"N\"', '     87', '   34', '   11', ' \"W\"', ' \"Tuscaloosa\"', ' AL']\n",
      "['   34', '   15', '   35', ' \"N\"', '     88', '   42', '   35', ' \"W\"', ' \"Tupelo\"', ' MS']\n",
      "['   36', '    9', '   35', ' \"N\"', '     95', '   54', '   36', ' \"W\"', ' \"Tulsa\"', ' OK']\n",
      "['   32', '   13', '   12', ' \"N\"', '    110', '   58', '   12', ' \"W\"', ' \"Tucson\"', ' AZ']\n",
      "['   37', '   10', '   11', ' \"N\"', '    104', '   30', '   36', ' \"W\"', ' \"Trinidad\"', ' CO']\n",
      "['   40', '   13', '   47', ' \"N\"', '     74', '   46', '   11', ' \"W\"', ' \"Trenton\"', ' NJ']\n",
      "['   44', '   45', '   35', ' \"N\"', '     85', '   37', '   47', ' \"W\"', ' \"Traverse City\"', ' MI']\n",
      "['   43', '   39', '    0', ' \"N\"', '     79', '   22', '   47', ' \"W\"', ' \"Toronto\"', ' ON']\n",
      "['   39', '    2', '   59', ' \"N\"', '     95', '   40', '   11', ' \"W\"', ' \"Topeka\"', ' KS']\n",
      "['   41', '   39', '    0', ' \"N\"', '     83', '   32', '   24', ' \"W\"', ' \"Toledo\"', ' OH']\n",
      "['   33', '   25', '   48', ' \"N\"', '     94', '    3', '    0', ' \"W\"', ' \"Texarkana\"', ' TX']\n",
      "['   39', '   28', '   12', ' \"N\"', '     87', '   24', '   36', ' \"W\"', ' \"Terre Haute\"', ' IN']\n",
      "['   27', '   57', '    0', ' \"N\"', '     82', '   26', '   59', ' \"W\"', ' \"Tampa\"', ' FL']\n",
      "['   30', '   27', '    0', ' \"N\"', '     84', '   16', '   47', ' \"W\"', ' \"Tallahassee\"', ' FL']\n",
      "['   47', '   14', '   24', ' \"N\"', '    122', '   25', '   48', ' \"W\"', ' \"Tacoma\"', ' WA']\n",
      "['   43', '    2', '   59', ' \"N\"', '     76', '    9', '    0', ' \"W\"', ' \"Syracuse\"', ' NY']\n",
      "['   32', '   35', '   59', ' \"N\"', '     82', '   20', '   23', ' \"W\"', ' \"Swainsboro\"', ' GA']\n",
      "['   33', '   55', '   11', ' \"N\"', '     80', '   20', '   59', ' \"W\"', ' \"Sumter\"', ' SC']\n",
      "['   40', '   59', '   24', ' \"N\"', '     75', '   11', '   24', ' \"W\"', ' \"Stroudsburg\"', ' PA']\n",
      "['   37', '   57', '   35', ' \"N\"', '    121', '   17', '   24', ' \"W\"', ' \"Stockton\"', ' CA']\n",
      "['   44', '   31', '   12', ' \"N\"', '     89', '   34', '   11', ' \"W\"', ' \"Stevens Point\"', ' WI']\n",
      "['   40', '   21', '   36', ' \"N\"', '     80', '   37', '   12', ' \"W\"', ' \"Steubenville\"', ' OH']\n",
      "['   40', '   37', '   11', ' \"N\"', '    103', '   13', '   12', ' \"W\"', ' \"Sterling\"', ' CO']\n",
      "['   38', '    9', '    0', ' \"N\"', '     79', '    4', '   11', ' \"W\"', ' \"Staunton\"', ' VA']\n",
      "['   39', '   55', '   11', ' \"N\"', '     83', '   48', '   35', ' \"W\"', ' \"Springfield\"', ' OH']\n",
      "['   37', '   13', '   12', ' \"N\"', '     93', '   17', '   24', ' \"W\"', ' \"Springfield\"', ' MO']\n",
      "['   42', '    5', '   59', ' \"N\"', '     72', '   35', '   23', ' \"W\"', ' \"Springfield\"', ' MA']\n",
      "['   39', '   47', '   59', ' \"N\"', '     89', '   39', '    0', ' \"W\"', ' \"Springfield\"', ' IL']\n",
      "['   47', '   40', '   11', ' \"N\"', '    117', '   24', '   36', ' \"W\"', ' \"Spokane\"', ' WA']\n",
      "['   41', '   40', '   48', ' \"N\"', '     86', '   15', '    0', ' \"W\"', ' \"South Bend\"', ' IN']\n",
      "['   43', '   32', '   24', ' \"N\"', '     96', '   43', '   48', ' \"W\"', ' \"Sioux Falls\"', ' SD']\n",
      "['   42', '   29', '   24', ' \"N\"', '     96', '   23', '   23', ' \"W\"', ' \"Sioux City\"', ' IA']\n",
      "['   32', '   30', '   35', ' \"N\"', '     93', '   45', '    0', ' \"W\"', ' \"Shreveport\"', ' LA']\n",
      "['   33', '   38', '   23', ' \"N\"', '     96', '   36', '   36', ' \"W\"', ' \"Sherman\"', ' TX']\n",
      "['   44', '   47', '   59', ' \"N\"', '    106', '   57', '   35', ' \"W\"', ' \"Sheridan\"', ' WY']\n",
      "['   35', '   13', '   47', ' \"N\"', '     96', '   40', '   48', ' \"W\"', ' \"Seminole\"', ' OK']\n",
      "['   32', '   25', '   11', ' \"N\"', '     87', '    1', '   11', ' \"W\"', ' \"Selma\"', ' AL']\n",
      "['   38', '   42', '   35', ' \"N\"', '     93', '   13', '   48', ' \"W\"', ' \"Sedalia\"', ' MO']\n",
      "['   47', '   35', '   59', ' \"N\"', '    122', '   19', '   48', ' \"W\"', ' \"Seattle\"', ' WA']\n",
      "['   41', '   24', '   35', ' \"N\"', '     75', '   40', '   11', ' \"W\"', ' \"Scranton\"', ' PA']\n",
      "['   41', '   52', '   11', ' \"N\"', '    103', '   39', '   36', ' \"W\"', ' \"Scottsbluff\"', ' NB']\n",
      "['   42', '   49', '   11', ' \"N\"', '     73', '   56', '   59', ' \"W\"', ' \"Schenectady\"', ' NY']\n",
      "['   32', '    4', '   48', ' \"N\"', '     81', '    5', '   23', ' \"W\"', ' \"Savannah\"', ' GA']\n",
      "['   46', '   29', '   24', ' \"N\"', '     84', '   20', '   59', ' \"W\"', ' \"Sault Sainte Marie\"', ' MI']\n",
      "['   27', '   20', '   24', ' \"N\"', '     82', '   31', '   47', ' \"W\"', ' \"Sarasota\"', ' FL']\n",
      "['   38', '   26', '   23', ' \"N\"', '    122', '   43', '   12', ' \"W\"', ' \"Santa Rosa\"', ' CA']\n",
      "['   35', '   40', '   48', ' \"N\"', '    105', '   56', '   59', ' \"W\"', ' \"Santa Fe\"', ' NM']\n",
      "['   34', '   25', '   11', ' \"N\"', '    119', '   41', '   59', ' \"W\"', ' \"Santa Barbara\"', ' CA']\n",
      "['   33', '   45', '   35', ' \"N\"', '    117', '   52', '   12', ' \"W\"', ' \"Santa Ana\"', ' CA']\n",
      "['   37', '   20', '   24', ' \"N\"', '    121', '   52', '   47', ' \"W\"', ' \"San Jose\"', ' CA']\n",
      "['   37', '   46', '   47', ' \"N\"', '    122', '   25', '   11', ' \"W\"', ' \"San Francisco\"', ' CA']\n",
      "['   41', '   27', '    0', ' \"N\"', '     82', '   42', '   35', ' \"W\"', ' \"Sandusky\"', ' OH']\n",
      "['   32', '   42', '   35', ' \"N\"', '    117', '    9', '    0', ' \"W\"', ' \"San Diego\"', ' CA']\n",
      "['   34', '    6', '   36', ' \"N\"', '    117', '   18', '   35', ' \"W\"', ' \"San Bernardino\"', ' CA']\n",
      "['   29', '   25', '   12', ' \"N\"', '     98', '   30', '    0', ' \"W\"', ' \"San Antonio\"', ' TX']\n",
      "['   31', '   27', '   35', ' \"N\"', '    100', '   26', '   24', ' \"W\"', ' \"San Angelo\"', ' TX']\n",
      "['   40', '   45', '   35', ' \"N\"', '    111', '   52', '   47', ' \"W\"', ' \"Salt Lake City\"', ' UT']\n",
      "['   38', '   22', '   11', ' \"N\"', '     75', '   35', '   59', ' \"W\"', ' \"Salisbury\"', ' MD']\n",
      "['   36', '   40', '   11', ' \"N\"', '    121', '   39', '    0', ' \"W\"', ' \"Salinas\"', ' CA']\n",
      "['   38', '   50', '   24', ' \"N\"', '     97', '   36', '   36', ' \"W\"', ' \"Salina\"', ' KS']\n",
      "['   38', '   31', '   47', ' \"N\"', '    106', '    0', '    0', ' \"W\"', ' \"Salida\"', ' CO']\n",
      "['   44', '   56', '   23', ' \"N\"', '    123', '    1', '   47', ' \"W\"', ' \"Salem\"', ' OR']\n",
      "['   44', '   57', '    0', ' \"N\"', '     93', '    5', '   59', ' \"W\"', ' \"Saint Paul\"', ' MN']\n",
      "['   38', '   37', '   11', ' \"N\"', '     90', '   11', '   24', ' \"W\"', ' \"Saint Louis\"', ' MO']\n",
      "['   39', '   46', '   12', ' \"N\"', '     94', '   50', '   23', ' \"W\"', ' \"Saint Joseph\"', ' MO']\n",
      "['   42', '    5', '   59', ' \"N\"', '     86', '   28', '   48', ' \"W\"', ' \"Saint Joseph\"', ' MI']\n",
      "['   44', '   25', '   11', ' \"N\"', '     72', '    1', '   11', ' \"W\"', ' \"Saint Johnsbury\"', ' VT']\n",
      "['   45', '   34', '   11', ' \"N\"', '     94', '   10', '   11', ' \"W\"', ' \"Saint Cloud\"', ' MN']\n",
      "['   29', '   53', '   23', ' \"N\"', '     81', '   19', '   11', ' \"W\"', ' \"Saint Augustine\"', ' FL']\n",
      "['   43', '   25', '   48', ' \"N\"', '     83', '   56', '   24', ' \"W\"', ' \"Saginaw\"', ' MI']\n",
      "['   38', '   35', '   24', ' \"N\"', '    121', '   29', '   23', ' \"W\"', ' \"Sacramento\"', ' CA']\n",
      "['   43', '   36', '   36', ' \"N\"', '     72', '   58', '   12', ' \"W\"', ' \"Rutland\"', ' VT']\n",
      "['   33', '   24', '    0', ' \"N\"', '    104', '   31', '   47', ' \"W\"', ' \"Roswell\"', ' NM']\n",
      "['   35', '   56', '   23', ' \"N\"', '     77', '   48', '    0', ' \"W\"', ' \"Rocky Mount\"', ' NC']\n",
      "['   41', '   35', '   24', ' \"N\"', '    109', '   13', '   48', ' \"W\"', ' \"Rock Springs\"', ' WY']\n",
      "['   42', '   16', '   12', ' \"N\"', '     89', '    5', '   59', ' \"W\"', ' \"Rockford\"', ' IL']\n",
      "['   43', '    9', '   35', ' \"N\"', '     77', '   36', '   36', ' \"W\"', ' \"Rochester\"', ' NY']\n",
      "['   44', '    1', '   12', ' \"N\"', '     92', '   27', '   35', ' \"W\"', ' \"Rochester\"', ' MN']\n",
      "['   37', '   16', '   12', ' \"N\"', '     79', '   56', '   24', ' \"W\"', ' \"Roanoke\"', ' VA']\n",
      "['   37', '   32', '   24', ' \"N\"', '     77', '   26', '   59', ' \"W\"', ' \"Richmond\"', ' VA']\n",
      "['   39', '   49', '   48', ' \"N\"', '     84', '   53', '   23', ' \"W\"', ' \"Richmond\"', ' IN']\n",
      "['   38', '   46', '   12', ' \"N\"', '    112', '    5', '   23', ' \"W\"', ' \"Richfield\"', ' UT']\n",
      "['   45', '   38', '   23', ' \"N\"', '     89', '   25', '   11', ' \"W\"', ' \"Rhinelander\"', ' WI']\n",
      "['   39', '   31', '   12', ' \"N\"', '    119', '   48', '   35', ' \"W\"', ' \"Reno\"', ' NV']\n",
      "['   50', '   25', '   11', ' \"N\"', '    104', '   39', '    0', ' \"W\"', ' \"Regina\"', ' SA']\n",
      "['   40', '   10', '   48', ' \"N\"', '    122', '   14', '   23', ' \"W\"', ' \"Red Bluff\"', ' CA']\n",
      "['   40', '   19', '   48', ' \"N\"', '     75', '   55', '   48', ' \"W\"', ' \"Reading\"', ' PA']\n",
      "['   41', '    9', '   35', ' \"N\"', '     81', '   14', '   23', ' \"W\"', ' \"Ravenna\"', ' OH ']\n",
      "[]\n"
     ]
    }
   ],
   "source": [
    "#Dealing with csv filess\n",
    "\n",
    "#reader and writer methods of csv\n",
    "import csv\n",
    "\n",
    "\n",
    "#reading content in scv file\n",
    "with open(\"cities.csv\",'r') as f:\n",
    "    c_read = csv.reader(f)\n",
    "    for i in c_read:\n",
    "        print(i) E#printing data inn csv file\n"
   ]
  },
  {
   "cell_type": "code",
   "execution_count": 11,
   "id": "88e7d46c",
   "metadata": {},
   "outputs": [
    {
     "ename": "IndentationError",
     "evalue": "unexpected indent (210797930.py, line 9)",
     "output_type": "error",
     "traceback": [
      "\u001b[1;36m  Cell \u001b[1;32mIn[11], line 9\u001b[1;36m\u001b[0m\n\u001b[1;33m    print(c_read)\u001b[0m\n\u001b[1;37m    ^\u001b[0m\n\u001b[1;31mIndentationError\u001b[0m\u001b[1;31m:\u001b[0m unexpected indent\n"
     ]
    }
   ],
   "source": [
    "#write to csv file \n",
    "with open(\"MY.csv\",'w') as f:\n",
    "    write = csv.writer(f)\n",
    "    write.writerows(\"hiii\")\n",
    "    \n",
    "with open(\"MY.csv\",'r') as f:\n",
    "    c_read = csv.reader(f)\n",
    "    for i in c_read:\n",
    "        print(i)"
   ]
  },
  {
   "cell_type": "code",
   "execution_count": 14,
   "id": "0f1c6109",
   "metadata": {},
   "outputs": [
    {
     "name": "stdout",
     "output_type": "stream",
     "text": [
      "['h']\n",
      "[]\n",
      "['i']\n",
      "[]\n",
      "['i']\n",
      "[]\n",
      "['i']\n",
      "[]\n",
      "['Jawan', '8.2']\n",
      "[]\n",
      "['Batman', '10']\n",
      "[]\n"
     ]
    }
   ],
   "source": [
    "#writing a 2d list to a file\n",
    "\n",
    "movies = [['Jawan',8.2],['Batman',10]]\n",
    "with open(\"MY.csv\",'a') as f:\n",
    "    write = csv.writer(f)\n",
    "    write.writerows(movies)\n",
    "        \n",
    "with open(\"MY.csv\",'r') as f:\n",
    "    c_read = csv.reader(f)\n",
    "    for i in c_read:\n",
    "        print(i)"
   ]
  },
  {
   "cell_type": "code",
   "execution_count": 19,
   "id": "503e51c5",
   "metadata": {
    "scrolled": true
   },
   "outputs": [
    {
     "name": "stdout",
     "output_type": "stream",
     "text": [
      "Enter No of data to enter2\n"
     ]
    },
    {
     "ename": "TypeError",
     "evalue": "'int' object is not iterable",
     "output_type": "error",
     "traceback": [
      "\u001b[1;31m---------------------------------------------------------------------------\u001b[0m",
      "\u001b[1;31mTypeError\u001b[0m                                 Traceback (most recent call last)",
      "Cell \u001b[1;32mIn[19], line 23\u001b[0m\n\u001b[0;32m     19\u001b[0m conn\u001b[38;5;241m.\u001b[39mcommit()\n\u001b[0;32m     21\u001b[0m n \u001b[38;5;241m=\u001b[39m \u001b[38;5;28mint\u001b[39m(\u001b[38;5;28minput\u001b[39m(\u001b[38;5;124m\"\u001b[39m\u001b[38;5;124mEnter No of data to enter\u001b[39m\u001b[38;5;124m\"\u001b[39m))\n\u001b[1;32m---> 23\u001b[0m \u001b[38;5;28;01mfor\u001b[39;00m i \u001b[38;5;129;01min\u001b[39;00m n :\n\u001b[0;32m     24\u001b[0m     mname \u001b[38;5;241m=\u001b[39m \u001b[38;5;28minput\u001b[39m(\u001b[38;5;124m\"\u001b[39m\u001b[38;5;124mname of movie\u001b[39m\u001b[38;5;124m\"\u001b[39m)\n\u001b[0;32m     25\u001b[0m     Year \u001b[38;5;241m=\u001b[39m \u001b[38;5;28mint\u001b[39m(\u001b[38;5;28minput\u001b[39m(\u001b[38;5;124m\"\u001b[39m\u001b[38;5;124mYear of movie\u001b[39m\u001b[38;5;124m\"\u001b[39m))\n",
      "\u001b[1;31mTypeError\u001b[0m: 'int' object is not iterable"
     ]
    }
   ],
   "source": [
    " "
   ]
  },
  {
   "cell_type": "code",
   "execution_count": 30,
   "id": "77360fea",
   "metadata": {},
   "outputs": [
    {
     "name": "stdout",
     "output_type": "stream",
     "text": [
      "(1, 'Barbie', 2023, 187)\n",
      "(10, 'oppenheimer', 2018, 189)\n",
      "(5, 'jAWAN', 2023, 216)\n",
      "(1, 'Barbie', 2023, 187)\n",
      "(10, 'oppenheimer', 2018, 189)\n",
      "(5, 'jAWAN', 2023, 216)\n",
      "(1, 'Barbie', 2023, 187)\n",
      "(10, 'oppenheimer', 2018, 189)\n"
     ]
    }
   ],
   "source": [
    "#dealing with databases\n",
    "\n",
    "\n",
    "import sqlite3\n",
    "conn = sqlite3.connect(\"movies.db\")\n",
    "cur = conn.cursor()\n",
    "\n",
    "#creating table  moviess\n",
    "\n",
    "# cur.execute(\"\"\"\n",
    "#                 CREATE TABLE MOVIESS(\n",
    "#                 mid integer,\n",
    "#                 name text,\n",
    "#                 year integer,\n",
    "#                 minutes integer)\n",
    "                \n",
    "\n",
    "\n",
    "#              \"\"\")\n",
    "conn.commit()\n",
    "\n",
    "\n",
    "#inserting the data into tables\n",
    "\n",
    "#ading  movies\n",
    "\n",
    "n = int(input(\"Enter No of data to enter\"))\n",
    "for i in range(n) :\n",
    "    mid = int(input(\"Enter movie id\"))\n",
    "    mname = input(\"name of movie : \")\n",
    "    Year = int(input(\"Year of movie : \"))\n",
    "    minutes = int(input(\"Enter no of miniutes : \"))\n",
    "    \n",
    "    cur.execute(\"insert into moviess values(:mid,:mname,:Year,:minutes)\",{\n",
    "        'mid':mid,\n",
    "        'mname':mname,\n",
    "        'Year':Year,\n",
    "        'minutes':minutes\n",
    "        \n",
    "    })\n",
    "conn.commit()\n",
    "\n",
    "data = cur.execute(\"select * from moviess\")\n",
    "for rows in data:\n",
    "    print(rows)\n",
    "print(\"=======================\")\n",
    "    \n",
    "#update year to 2018 where movie id is10\n",
    "cur.execute(\"update moviess set year = 2018 where mid = 10\")\n",
    "conn.commit()\n",
    "\n",
    "data = cur.execute(\"select * from moviess\")\n",
    "for rows in data:\n",
    "    print(rows)\n",
    "print(\"=======================\")\n",
    "    \n",
    "#delet row with mid = 5\n",
    "cur.execute(\"delete from moviess where mid = 5\")\n",
    "conn.commit()\n",
    "\n",
    "data = cur.execute(\"select * from moviess\")\n",
    "for rows in data:\n",
    "    print(rows)\n",
    "    \n"
   ]
  },
  {
   "cell_type": "code",
   "execution_count": 2,
   "id": "6f84fb3d",
   "metadata": {},
   "outputs": [
    {
     "name": "stdout",
     "output_type": "stream",
     "text": [
      "cant devide by zero\n"
     ]
    }
   ],
   "source": [
    "#Exception handling\n",
    "\n",
    "try :\n",
    "    a = 10\n",
    "    a/0\n",
    "except ZeroDivisionError:\n",
    "    print(\"cant devide by zero\")\n",
    "    "
   ]
  },
  {
   "cell_type": "code",
   "execution_count": 19,
   "id": "6eb305b6",
   "metadata": {},
   "outputs": [
    {
     "name": "stdout",
     "output_type": "stream",
     "text": [
      "cant convert to string\n"
     ]
    }
   ],
   "source": [
    "#multiple xceptions \n",
    "\n",
    "try :\n",
    "    a = int('hiii')\n",
    "    b = 10\n",
    "    d = b\n",
    "    c = 45\n",
    "    z = int(a)\n",
    "except ZeroDivisionError:\n",
    "    pass\n",
    "    print(\"cant devide\")\n",
    "except ValueError:\n",
    "    print(\"cant convert to string\")"
   ]
  },
  {
   "cell_type": "code",
   "execution_count": 17,
   "id": "51fef796",
   "metadata": {},
   "outputs": [
    {
     "name": "stdout",
     "output_type": "stream",
     "text": [
      "value error\n"
     ]
    },
    {
     "ename": "ZeroDivisionError",
     "evalue": "divided by zero",
     "output_type": "error",
     "traceback": [
      "\u001b[1;31m---------------------------------------------------------------------------\u001b[0m",
      "\u001b[1;31mValueError\u001b[0m                                Traceback (most recent call last)",
      "Cell \u001b[1;32mIn[17], line 6\u001b[0m\n\u001b[0;32m      5\u001b[0m     b \u001b[38;5;241m=\u001b[39m \u001b[38;5;241m45\u001b[39m\n\u001b[1;32m----> 6\u001b[0m     c \u001b[38;5;241m=\u001b[39m \u001b[38;5;28;43mint\u001b[39;49m\u001b[43m(\u001b[49m\u001b[38;5;124;43m\"\u001b[39;49m\u001b[38;5;124;43mhi\u001b[39;49m\u001b[38;5;124;43m\"\u001b[39;49m\u001b[43m)\u001b[49m\n\u001b[0;32m      7\u001b[0m \u001b[38;5;28;01mexcept\u001b[39;00m \u001b[38;5;167;01mValueError\u001b[39;00m:\n",
      "\u001b[1;31mValueError\u001b[0m: invalid literal for int() with base 10: 'hi'",
      "\nDuring handling of the above exception, another exception occurred:\n",
      "\u001b[1;31mZeroDivisionError\u001b[0m                         Traceback (most recent call last)",
      "Cell \u001b[1;32mIn[17], line 10\u001b[0m\n\u001b[0;32m      7\u001b[0m \u001b[38;5;28;01mexcept\u001b[39;00m \u001b[38;5;167;01mValueError\u001b[39;00m:\n\u001b[0;32m      8\u001b[0m     \u001b[38;5;28mprint\u001b[39m(\u001b[38;5;124m\"\u001b[39m\u001b[38;5;124mvalue error\u001b[39m\u001b[38;5;124m\"\u001b[39m)\n\u001b[1;32m---> 10\u001b[0m     \u001b[38;5;28;01mraise\u001b[39;00m \u001b[38;5;167;01mZeroDivisionError\u001b[39;00m(\u001b[38;5;124m\"\u001b[39m\u001b[38;5;124mdivided by zero\u001b[39m\u001b[38;5;124m\"\u001b[39m)\n",
      "\u001b[1;31mZeroDivisionError\u001b[0m: divided by zero"
     ]
    }
   ],
   "source": [
    "#reraise exception\n",
    "\n",
    "try :\n",
    "    a = 45\n",
    "    b = 45\n",
    "    c = int(\"hi\")\n",
    "except ValueError:\n",
    "    print(\"value error exception occured\")\n",
    "    \n",
    "    raise ZeroDivisionError(\"divided by zero\") #raise keyword"
   ]
  },
  {
   "cell_type": "code",
   "execution_count": 28,
   "id": "0d3ebace",
   "metadata": {},
   "outputs": [
    {
     "name": "stdout",
     "output_type": "stream",
     "text": [
      "enter value of x :-78\n",
      "custom exception caught x cant be -ve\n"
     ]
    }
   ],
   "source": [
    "#make ur own custom exception\n",
    "\n",
    "class my_cexpenson(Exception):\n",
    "    def __init__(self,msg = \"HERES MY EXCEPSON\"):\n",
    "        self.msg = msg\n",
    "        super().__init__(self.msg)\n",
    "        \n",
    "def myfxn(x):\n",
    "    if x<0:\n",
    "        raise my_cexpenson(f\" x cant be -ve\")\n",
    "        \n",
    "try :\n",
    "    x = int(input(\"enter value of x :\"))\n",
    "    myfxn(x)\n",
    "except my_cexpenson as e:\n",
    "    print(f\"custom exception caught{e}\")"
   ]
  },
  {
   "cell_type": "code",
   "execution_count": null,
   "id": "be870be8",
   "metadata": {},
   "outputs": [],
   "source": []
  }
 ],
 "metadata": {
  "kernelspec": {
   "display_name": "Python 3 (ipykernel)",
   "language": "python",
   "name": "python3"
  },
  "language_info": {
   "codemirror_mode": {
    "name": "ipython",
    "version": 3
   },
   "file_extension": ".py",
   "mimetype": "text/x-python",
   "name": "python",
   "nbconvert_exporter": "python",
   "pygments_lexer": "ipython3",
   "version": "3.10.9"
  }
 },
 "nbformat": 4,
 "nbformat_minor": 5
}
