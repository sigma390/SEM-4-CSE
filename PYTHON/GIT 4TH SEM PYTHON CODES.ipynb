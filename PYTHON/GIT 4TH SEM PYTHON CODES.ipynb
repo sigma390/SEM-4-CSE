{
 "cells": [
  {
   "cell_type": "code",
   "execution_count": 26,
   "id": "b2e06f72",
   "metadata": {},
   "outputs": [
    {
     "ename": "TypeError",
     "evalue": "Point() takes no arguments",
     "output_type": "error",
     "traceback": [
      "\u001b[1;31m---------------------------------------------------------------------------\u001b[0m",
      "\u001b[1;31mTypeError\u001b[0m                                 Traceback (most recent call last)",
      "Cell \u001b[1;32mIn[26], line 14\u001b[0m\n\u001b[0;32m     10\u001b[0m     \u001b[38;5;28;01mdef\u001b[39;00m \u001b[38;5;21m__str\u001b[39m (\u001b[38;5;28mself\u001b[39m):\n\u001b[0;32m     11\u001b[0m         \u001b[38;5;28;01mreturn\u001b[39;00m \u001b[38;5;124m\"\u001b[39m\u001b[38;5;124m(\u001b[39m\u001b[38;5;132;01m%d\u001b[39;00m\u001b[38;5;124m,\u001b[39m\u001b[38;5;132;01m%d\u001b[39;00m\u001b[38;5;124m)\u001b[39m\u001b[38;5;124m\"\u001b[39m\u001b[38;5;241m%\u001b[39m(\u001b[38;5;28mself\u001b[39m\u001b[38;5;241m.\u001b[39mx, \u001b[38;5;28mself\u001b[39m\u001b[38;5;241m.\u001b[39my)\n\u001b[1;32m---> 14\u001b[0m p1\u001b[38;5;241m=\u001b[39m\u001b[43mPoint\u001b[49m\u001b[43m(\u001b[49m\u001b[38;5;241;43m10\u001b[39;49m\u001b[43m,\u001b[49m\u001b[38;5;241;43m20\u001b[39;49m\u001b[43m)\u001b[49m \n\u001b[0;32m     15\u001b[0m p2\u001b[38;5;241m=\u001b[39mPoint(\u001b[38;5;241m4\u001b[39m,\u001b[38;5;241m5\u001b[39m) \n\u001b[0;32m     16\u001b[0m \u001b[38;5;28mprint\u001b[39m(\u001b[38;5;124m\"\u001b[39m\u001b[38;5;124mP1 is:\u001b[39m\u001b[38;5;124m\"\u001b[39m,p1)\n",
      "\u001b[1;31mTypeError\u001b[0m: Point() takes no arguments"
     ]
    }
   ],
   "source": [
    "class Point:\n",
    "    def _init_ (self,a=0,b=0): \n",
    "        self.x=a\n",
    "        self.y=b\n",
    "    def __add__(self, p2): \n",
    "        p3=Point() \n",
    "        p3.x=self.x+p2.x \n",
    "        p3.y=self.y+p2.y\n",
    "        return p3\n",
    "    def __str (self):\n",
    "        return \"(%d,%d)\"%(self.x, self.y)\n",
    "    \n",
    "    \n",
    "p1=Point(10,20) \n",
    "p2=Point(4,5) \n",
    "print(\"P1 is:\",p1)\n",
    "print(\"P2 is:\",p2)\n",
    "p4=p1+p2 #call for add () method \n",
    "print(\"Sum is:\",p4)\n"
   ]
  },
  {
   "cell_type": "code",
   "execution_count": 25,
   "id": "1f1ac185",
   "metadata": {},
   "outputs": [
    {
     "name": "stdout",
     "output_type": "stream",
     "text": [
      "(9,5)\n"
     ]
    }
   ],
   "source": [
    "#passing object to function\n",
    "\n",
    "class Point:\n",
    "    def __init__(self, x=0, y=0):\n",
    "        self.x = x\n",
    "        self.y = y\n",
    "\n",
    "    def __str__(self):\n",
    "        return \"({0},{1})\".format(self.x, self.y)\n",
    "\n",
    "    def __add__(p1, p2):\n",
    "        p3 = Point()\n",
    "        p3.x = p1.x + p2.x\n",
    "        p3.y = p1.y + p2.y\n",
    "        return p3\n",
    "\n",
    "\n",
    "p1 = Point(2, 2)\n",
    "p2 = Point(7, 3)\n",
    "p4 = p1+p2\n",
    "print(p4)"
   ]
  },
  {
   "cell_type": "code",
   "execution_count": 31,
   "id": "9d228c6d",
   "metadata": {},
   "outputs": [
    {
     "name": "stdout",
     "output_type": "stream",
     "text": [
      "Buddy says Woof!\n",
      "Whiskers says Meow!\n"
     ]
    }
   ],
   "source": [
    "class Animal:\n",
    "    def __init__(self, name):\n",
    "        self.name = name\n",
    "        \n",
    "    def speak(self):\n",
    "        pass\n",
    "\n",
    "class Dog(Animal):\n",
    "    def speak(self):\n",
    "        return f\"{self.name} says Woof!\"\n",
    "\n",
    "class Cat(Animal):\n",
    "    def speak(self):\n",
    "        return f\"{self.name} says Meow!\"\n",
    "\n",
    "# Creating instances of subclasses\n",
    "dog = Dog(\"Buddy\")\n",
    "cat = Cat(\"Whiskers\")\n",
    "\n",
    "# Calling methods\n",
    "print(dog.speak())  # Output: Buddy says Woof!\n",
    "print(cat.speak()) #whiskers say MEow"
   ]
  },
  {
   "cell_type": "code",
   "execution_count": 30,
   "id": "097dedc2",
   "metadata": {},
   "outputs": [
    {
     "name": "stdout",
     "output_type": "stream",
     "text": [
      "value errror invalid literal for int() with base 10: 'hii'\n"
     ]
    }
   ],
   "source": [
    "#multiple exception handling code\n",
    "\n",
    "\n",
    "\n",
    "try :\n",
    "    a = int(\"hii\")\n",
    "except ZeroDivisionError:\n",
    "    print(\"zero div errror\")\n",
    "    pass\n",
    "except ValueError as e:\n",
    "    print('value errror', e)\n"
   ]
  },
  {
   "cell_type": "code",
   "execution_count": 29,
   "id": "4d69fb9d",
   "metadata": {},
   "outputs": [
    {
     "name": "stdout",
     "output_type": "stream",
     "text": [
      "enter a number-5\n"
     ]
    },
    {
     "ename": "TypeError",
     "evalue": "c_e.__init__() missing 1 required positional argument: 'val'",
     "output_type": "error",
     "traceback": [
      "\u001b[1;31m---------------------------------------------------------------------------\u001b[0m",
      "\u001b[1;31mTypeError\u001b[0m                                 Traceback (most recent call last)",
      "Cell \u001b[1;32mIn[29], line 12\u001b[0m\n\u001b[0;32m     10\u001b[0m \u001b[38;5;28;01mtry\u001b[39;00m :\n\u001b[0;32m     11\u001b[0m     a \u001b[38;5;241m=\u001b[39m \u001b[38;5;28mint\u001b[39m(\u001b[38;5;28minput\u001b[39m(\u001b[38;5;124m\"\u001b[39m\u001b[38;5;124menter a number\u001b[39m\u001b[38;5;124m\"\u001b[39m))\n\u001b[1;32m---> 12\u001b[0m     \u001b[43mpro_data\u001b[49m\u001b[43m(\u001b[49m\u001b[43ma\u001b[49m\u001b[43m)\u001b[49m\n\u001b[0;32m     13\u001b[0m \u001b[38;5;28;01mexcept\u001b[39;00m c_e \u001b[38;5;28;01mas\u001b[39;00m e:\n\u001b[0;32m     14\u001b[0m     \u001b[38;5;28mprint\u001b[39m(\u001b[38;5;124m\"\u001b[39m\u001b[38;5;124mcustom exception\u001b[39m\u001b[38;5;124m\"\u001b[39m,e)\n",
      "Cell \u001b[1;32mIn[29], line 8\u001b[0m, in \u001b[0;36mpro_data\u001b[1;34m(num)\u001b[0m\n\u001b[0;32m      6\u001b[0m \u001b[38;5;28;01mdef\u001b[39;00m \u001b[38;5;21mpro_data\u001b[39m(num):\n\u001b[0;32m      7\u001b[0m     \u001b[38;5;28;01mif\u001b[39;00m num\u001b[38;5;241m<\u001b[39m\u001b[38;5;241m0\u001b[39m:\n\u001b[1;32m----> 8\u001b[0m         \u001b[38;5;28;01mraise\u001b[39;00m c_e\n",
      "\u001b[1;31mTypeError\u001b[0m: c_e.__init__() missing 1 required positional argument: 'val'"
     ]
    }
   ],
   "source": [
    "#custom exception\n",
    "class c_e(Exception):\n",
    "    def __init__(self, val):\n",
    "        self.val = val\n",
    "        super().__init__(f\"Negative numbers are not allowed: {self.val}\")\n",
    "    \n",
    "def pro_data(num):\n",
    "    if num<0:\n",
    "        raise c_e\n",
    "\n",
    "try :\n",
    "    a = int(input(\"enter a number\"))\n",
    "    pro_data(a)\n",
    "except c_e as e:\n",
    "    print(\"custom exception\",e)"
   ]
  },
  {
   "cell_type": "code",
   "execution_count": 5,
   "id": "a2b884ba",
   "metadata": {},
   "outputs": [
    {
     "name": "stdout",
     "output_type": "stream",
     "text": [
      "hi i am om\n",
      "\n"
     ]
    }
   ],
   "source": [
    "with open(\"my.txt\", 'r')as f :\n",
    "    for i in f :\n",
    "        print(i)"
   ]
  },
  {
   "cell_type": "code",
   "execution_count": 10,
   "id": "3706d03e",
   "metadata": {},
   "outputs": [
    {
     "name": "stdout",
     "output_type": "stream",
     "text": [
      "hi i know uhi i know u\n",
      "\n",
      "hi i know u\n",
      "\n",
      "hi i know u\n"
     ]
    }
   ],
   "source": [
    "#write data \n",
    "with open(\"my.txt\", 'a') as f:\n",
    "    f.write(\"\\nhi i know u\")\n",
    "    \n",
    "f.close()\n",
    "\n",
    "with open(\"my.txt\", 'r')as f :\n",
    "    for i in f :\n",
    "        print(i)\n"
   ]
  },
  {
   "cell_type": "code",
   "execution_count": 12,
   "id": "64ac7412",
   "metadata": {},
   "outputs": [
    {
     "name": "stdout",
     "output_type": "stream",
     "text": [
      "hi i know uhi i know u\n",
      "hi i know u\n",
      "hi i know u\n"
     ]
    }
   ],
   "source": [
    "#read method\n",
    "\n",
    "with open(\"my.txt\", 'r')as f :\n",
    "    c = f.read()\n",
    "    print(c)"
   ]
  },
  {
   "cell_type": "code",
   "execution_count": 13,
   "id": "03c69817",
   "metadata": {},
   "outputs": [
    {
     "name": "stdout",
     "output_type": "stream",
     "text": [
      "hi i know uhi i know u\n",
      "\n"
     ]
    }
   ],
   "source": [
    "with open(\"my.txt\", 'r')as f :\n",
    "    print(f.readline())"
   ]
  },
  {
   "cell_type": "code",
   "execution_count": 14,
   "id": "4eb778b2",
   "metadata": {},
   "outputs": [
    {
     "name": "stdout",
     "output_type": "stream",
     "text": [
      "['hi i know uhi i know u\\n', 'hi i know u\\n', 'hi i know u']\n"
     ]
    }
   ],
   "source": [
    "with open(\"my.txt\", 'r')as f :\n",
    "    print(f.readlines())"
   ]
  },
  {
   "cell_type": "code",
   "execution_count": 20,
   "id": "818abd8e",
   "metadata": {},
   "outputs": [
    {
     "name": "stdout",
     "output_type": "stream",
     "text": [
      "['booboo,cats,dogs,fishes,']\n"
     ]
    }
   ],
   "source": [
    "#write from list to a file\n",
    "\n",
    "mylist = [\"booboo\", \"cats\",'dogs',\"fishes\"]\n",
    "with open(\"my.txt\", 'w')as f :\n",
    "    for item in mylist :\n",
    "        f.write(item+\",\")\n",
    "        \n",
    "with open(\"my.txt\", 'r')as f :\n",
    "    print(f.readlines())"
   ]
  },
  {
   "cell_type": "code",
   "execution_count": 23,
   "id": "eb6c4b1c",
   "metadata": {},
   "outputs": [],
   "source": [
    "lii = []\n",
    "with open(\"my.txt\", 'r')as f :\n",
    "    for l in f:\n",
    "        \n",
    "        lii.append(l)"
   ]
  },
  {
   "cell_type": "code",
   "execution_count": 24,
   "id": "6e4cb524",
   "metadata": {},
   "outputs": [
    {
     "data": {
      "text/plain": [
       "['booboo,cats,dogs,fishes,']"
      ]
     },
     "execution_count": 24,
     "metadata": {},
     "output_type": "execute_result"
    }
   ],
   "source": [
    "lii"
   ]
  },
  {
   "cell_type": "code",
   "execution_count": 26,
   "id": "81b00f5e",
   "metadata": {},
   "outputs": [
    {
     "name": "stdout",
     "output_type": "stream",
     "text": [
      "['LatD', ' \"LatM\"', ' \"LatS\"', ' \"NS\"', ' \"LonD\"', ' \"LonM\"', ' \"LonS\"', ' \"EW\"', ' \"City\"', ' \"State\"']\n",
      "['   41', '    5', '   59', ' \"N\"', '     80', '   39', '    0', ' \"W\"', ' \"Youngstown\"', ' OH']\n",
      "['   42', '   52', '   48', ' \"N\"', '     97', '   23', '   23', ' \"W\"', ' \"Yankton\"', ' SD']\n",
      "['   46', '   35', '   59', ' \"N\"', '    120', '   30', '   36', ' \"W\"', ' \"Yakima\"', ' WA']\n",
      "['   42', '   16', '   12', ' \"N\"', '     71', '   48', '    0', ' \"W\"', ' \"Worcester\"', ' MA']\n",
      "['   43', '   37', '   48', ' \"N\"', '     89', '   46', '   11', ' \"W\"', ' \"Wisconsin Dells\"', ' WI']\n",
      "['   36', '    5', '   59', ' \"N\"', '     80', '   15', '    0', ' \"W\"', ' \"Winston-Salem\"', ' NC']\n",
      "['   49', '   52', '   48', ' \"N\"', '     97', '    9', '    0', ' \"W\"', ' \"Winnipeg\"', ' MB']\n",
      "['   39', '   11', '   23', ' \"N\"', '     78', '    9', '   36', ' \"W\"', ' \"Winchester\"', ' VA']\n",
      "['   34', '   14', '   24', ' \"N\"', '     77', '   55', '   11', ' \"W\"', ' \"Wilmington\"', ' NC']\n",
      "['   39', '   45', '    0', ' \"N\"', '     75', '   33', '    0', ' \"W\"', ' \"Wilmington\"', ' DE']\n",
      "['   48', '    9', '    0', ' \"N\"', '    103', '   37', '   12', ' \"W\"', ' \"Williston\"', ' ND']\n",
      "['   41', '   15', '    0', ' \"N\"', '     77', '    0', '    0', ' \"W\"', ' \"Williamsport\"', ' PA']\n",
      "['   37', '   40', '   48', ' \"N\"', '     82', '   16', '   47', ' \"W\"', ' \"Williamson\"', ' WV']\n",
      "['   33', '   54', '    0', ' \"N\"', '     98', '   29', '   23', ' \"W\"', ' \"Wichita Falls\"', ' TX']\n",
      "['   37', '   41', '   23', ' \"N\"', '     97', '   20', '   23', ' \"W\"', ' \"Wichita\"', ' KS']\n",
      "['   40', '    4', '   11', ' \"N\"', '     80', '   43', '   12', ' \"W\"', ' \"Wheeling\"', ' WV']\n",
      "['   26', '   43', '   11', ' \"N\"', '     80', '    3', '    0', ' \"W\"', ' \"West Palm Beach\"', ' FL']\n",
      "['   47', '   25', '   11', ' \"N\"', '    120', '   19', '   11', ' \"W\"', ' \"Wenatchee\"', ' WA']\n",
      "['   41', '   25', '   11', ' \"N\"', '    122', '   23', '   23', ' \"W\"', ' \"Weed\"', ' CA']\n",
      "['   31', '   13', '   11', ' \"N\"', '     82', '   20', '   59', ' \"W\"', ' \"Waycross\"', ' GA']\n",
      "['   44', '   57', '   35', ' \"N\"', '     89', '   38', '   23', ' \"W\"', ' \"Wausau\"', ' WI']\n",
      "['   42', '   21', '   36', ' \"N\"', '     87', '   49', '   48', ' \"W\"', ' \"Waukegan\"', ' IL']\n",
      "['   44', '   54', '    0', ' \"N\"', '     97', '    6', '   36', ' \"W\"', ' \"Watertown\"', ' SD']\n",
      "['   43', '   58', '   47', ' \"N\"', '     75', '   55', '   11', ' \"W\"', ' \"Watertown\"', ' NY']\n",
      "['   42', '   30', '    0', ' \"N\"', '     92', '   20', '   23', ' \"W\"', ' \"Waterloo\"', ' IA']\n",
      "['   41', '   32', '   59', ' \"N\"', '     73', '    3', '    0', ' \"W\"', ' \"Waterbury\"', ' CT']\n",
      "['   38', '   53', '   23', ' \"N\"', '     77', '    1', '   47', ' \"W\"', ' \"Washington\"', ' DC']\n",
      "['   41', '   50', '   59', ' \"N\"', '     79', '    8', '   23', ' \"W\"', ' \"Warren\"', ' PA']\n",
      "['   46', '    4', '   11', ' \"N\"', '    118', '   19', '   48', ' \"W\"', ' \"Walla Walla\"', ' WA']\n",
      "['   31', '   32', '   59', ' \"N\"', '     97', '    8', '   23', ' \"W\"', ' \"Waco\"', ' TX']\n",
      "['   38', '   40', '   48', ' \"N\"', '     87', '   31', '   47', ' \"W\"', ' \"Vincennes\"', ' IN']\n",
      "['   28', '   48', '   35', ' \"N\"', '     97', '    0', '   36', ' \"W\"', ' \"Victoria\"', ' TX']\n",
      "['   32', '   20', '   59', ' \"N\"', '     90', '   52', '   47', ' \"W\"', ' \"Vicksburg\"', ' MS']\n",
      "['   49', '   16', '   12', ' \"N\"', '    123', '    7', '   12', ' \"W\"', ' \"Vancouver\"', ' BC']\n",
      "['   46', '   55', '   11', ' \"N\"', '     98', '    0', '   36', ' \"W\"', ' \"Valley City\"', ' ND']\n",
      "['   30', '   49', '   47', ' \"N\"', '     83', '   16', '   47', ' \"W\"', ' \"Valdosta\"', ' GA']\n",
      "['   43', '    6', '   36', ' \"N\"', '     75', '   13', '   48', ' \"W\"', ' \"Utica\"', ' NY']\n",
      "['   39', '   54', '    0', ' \"N\"', '     79', '   43', '   48', ' \"W\"', ' \"Uniontown\"', ' PA']\n",
      "['   32', '   20', '   59', ' \"N\"', '     95', '   18', '    0', ' \"W\"', ' \"Tyler\"', ' TX']\n",
      "['   42', '   33', '   36', ' \"N\"', '    114', '   28', '   12', ' \"W\"', ' \"Twin Falls\"', ' ID']\n",
      "['   33', '   12', '   35', ' \"N\"', '     87', '   34', '   11', ' \"W\"', ' \"Tuscaloosa\"', ' AL']\n",
      "['   34', '   15', '   35', ' \"N\"', '     88', '   42', '   35', ' \"W\"', ' \"Tupelo\"', ' MS']\n",
      "['   36', '    9', '   35', ' \"N\"', '     95', '   54', '   36', ' \"W\"', ' \"Tulsa\"', ' OK']\n",
      "['   32', '   13', '   12', ' \"N\"', '    110', '   58', '   12', ' \"W\"', ' \"Tucson\"', ' AZ']\n",
      "['   37', '   10', '   11', ' \"N\"', '    104', '   30', '   36', ' \"W\"', ' \"Trinidad\"', ' CO']\n",
      "['   40', '   13', '   47', ' \"N\"', '     74', '   46', '   11', ' \"W\"', ' \"Trenton\"', ' NJ']\n",
      "['   44', '   45', '   35', ' \"N\"', '     85', '   37', '   47', ' \"W\"', ' \"Traverse City\"', ' MI']\n",
      "['   43', '   39', '    0', ' \"N\"', '     79', '   22', '   47', ' \"W\"', ' \"Toronto\"', ' ON']\n",
      "['   39', '    2', '   59', ' \"N\"', '     95', '   40', '   11', ' \"W\"', ' \"Topeka\"', ' KS']\n",
      "['   41', '   39', '    0', ' \"N\"', '     83', '   32', '   24', ' \"W\"', ' \"Toledo\"', ' OH']\n",
      "['   33', '   25', '   48', ' \"N\"', '     94', '    3', '    0', ' \"W\"', ' \"Texarkana\"', ' TX']\n",
      "['   39', '   28', '   12', ' \"N\"', '     87', '   24', '   36', ' \"W\"', ' \"Terre Haute\"', ' IN']\n",
      "['   27', '   57', '    0', ' \"N\"', '     82', '   26', '   59', ' \"W\"', ' \"Tampa\"', ' FL']\n",
      "['   30', '   27', '    0', ' \"N\"', '     84', '   16', '   47', ' \"W\"', ' \"Tallahassee\"', ' FL']\n",
      "['   47', '   14', '   24', ' \"N\"', '    122', '   25', '   48', ' \"W\"', ' \"Tacoma\"', ' WA']\n",
      "['   43', '    2', '   59', ' \"N\"', '     76', '    9', '    0', ' \"W\"', ' \"Syracuse\"', ' NY']\n",
      "['   32', '   35', '   59', ' \"N\"', '     82', '   20', '   23', ' \"W\"', ' \"Swainsboro\"', ' GA']\n",
      "['   33', '   55', '   11', ' \"N\"', '     80', '   20', '   59', ' \"W\"', ' \"Sumter\"', ' SC']\n",
      "['   40', '   59', '   24', ' \"N\"', '     75', '   11', '   24', ' \"W\"', ' \"Stroudsburg\"', ' PA']\n",
      "['   37', '   57', '   35', ' \"N\"', '    121', '   17', '   24', ' \"W\"', ' \"Stockton\"', ' CA']\n",
      "['   44', '   31', '   12', ' \"N\"', '     89', '   34', '   11', ' \"W\"', ' \"Stevens Point\"', ' WI']\n",
      "['   40', '   21', '   36', ' \"N\"', '     80', '   37', '   12', ' \"W\"', ' \"Steubenville\"', ' OH']\n",
      "['   40', '   37', '   11', ' \"N\"', '    103', '   13', '   12', ' \"W\"', ' \"Sterling\"', ' CO']\n",
      "['   38', '    9', '    0', ' \"N\"', '     79', '    4', '   11', ' \"W\"', ' \"Staunton\"', ' VA']\n",
      "['   39', '   55', '   11', ' \"N\"', '     83', '   48', '   35', ' \"W\"', ' \"Springfield\"', ' OH']\n",
      "['   37', '   13', '   12', ' \"N\"', '     93', '   17', '   24', ' \"W\"', ' \"Springfield\"', ' MO']\n",
      "['   42', '    5', '   59', ' \"N\"', '     72', '   35', '   23', ' \"W\"', ' \"Springfield\"', ' MA']\n",
      "['   39', '   47', '   59', ' \"N\"', '     89', '   39', '    0', ' \"W\"', ' \"Springfield\"', ' IL']\n",
      "['   47', '   40', '   11', ' \"N\"', '    117', '   24', '   36', ' \"W\"', ' \"Spokane\"', ' WA']\n",
      "['   41', '   40', '   48', ' \"N\"', '     86', '   15', '    0', ' \"W\"', ' \"South Bend\"', ' IN']\n",
      "['   43', '   32', '   24', ' \"N\"', '     96', '   43', '   48', ' \"W\"', ' \"Sioux Falls\"', ' SD']\n",
      "['   42', '   29', '   24', ' \"N\"', '     96', '   23', '   23', ' \"W\"', ' \"Sioux City\"', ' IA']\n",
      "['   32', '   30', '   35', ' \"N\"', '     93', '   45', '    0', ' \"W\"', ' \"Shreveport\"', ' LA']\n",
      "['   33', '   38', '   23', ' \"N\"', '     96', '   36', '   36', ' \"W\"', ' \"Sherman\"', ' TX']\n",
      "['   44', '   47', '   59', ' \"N\"', '    106', '   57', '   35', ' \"W\"', ' \"Sheridan\"', ' WY']\n",
      "['   35', '   13', '   47', ' \"N\"', '     96', '   40', '   48', ' \"W\"', ' \"Seminole\"', ' OK']\n",
      "['   32', '   25', '   11', ' \"N\"', '     87', '    1', '   11', ' \"W\"', ' \"Selma\"', ' AL']\n",
      "['   38', '   42', '   35', ' \"N\"', '     93', '   13', '   48', ' \"W\"', ' \"Sedalia\"', ' MO']\n",
      "['   47', '   35', '   59', ' \"N\"', '    122', '   19', '   48', ' \"W\"', ' \"Seattle\"', ' WA']\n",
      "['   41', '   24', '   35', ' \"N\"', '     75', '   40', '   11', ' \"W\"', ' \"Scranton\"', ' PA']\n",
      "['   41', '   52', '   11', ' \"N\"', '    103', '   39', '   36', ' \"W\"', ' \"Scottsbluff\"', ' NB']\n",
      "['   42', '   49', '   11', ' \"N\"', '     73', '   56', '   59', ' \"W\"', ' \"Schenectady\"', ' NY']\n",
      "['   32', '    4', '   48', ' \"N\"', '     81', '    5', '   23', ' \"W\"', ' \"Savannah\"', ' GA']\n",
      "['   46', '   29', '   24', ' \"N\"', '     84', '   20', '   59', ' \"W\"', ' \"Sault Sainte Marie\"', ' MI']\n",
      "['   27', '   20', '   24', ' \"N\"', '     82', '   31', '   47', ' \"W\"', ' \"Sarasota\"', ' FL']\n",
      "['   38', '   26', '   23', ' \"N\"', '    122', '   43', '   12', ' \"W\"', ' \"Santa Rosa\"', ' CA']\n",
      "['   35', '   40', '   48', ' \"N\"', '    105', '   56', '   59', ' \"W\"', ' \"Santa Fe\"', ' NM']\n",
      "['   34', '   25', '   11', ' \"N\"', '    119', '   41', '   59', ' \"W\"', ' \"Santa Barbara\"', ' CA']\n",
      "['   33', '   45', '   35', ' \"N\"', '    117', '   52', '   12', ' \"W\"', ' \"Santa Ana\"', ' CA']\n",
      "['   37', '   20', '   24', ' \"N\"', '    121', '   52', '   47', ' \"W\"', ' \"San Jose\"', ' CA']\n",
      "['   37', '   46', '   47', ' \"N\"', '    122', '   25', '   11', ' \"W\"', ' \"San Francisco\"', ' CA']\n",
      "['   41', '   27', '    0', ' \"N\"', '     82', '   42', '   35', ' \"W\"', ' \"Sandusky\"', ' OH']\n",
      "['   32', '   42', '   35', ' \"N\"', '    117', '    9', '    0', ' \"W\"', ' \"San Diego\"', ' CA']\n",
      "['   34', '    6', '   36', ' \"N\"', '    117', '   18', '   35', ' \"W\"', ' \"San Bernardino\"', ' CA']\n",
      "['   29', '   25', '   12', ' \"N\"', '     98', '   30', '    0', ' \"W\"', ' \"San Antonio\"', ' TX']\n",
      "['   31', '   27', '   35', ' \"N\"', '    100', '   26', '   24', ' \"W\"', ' \"San Angelo\"', ' TX']\n",
      "['   40', '   45', '   35', ' \"N\"', '    111', '   52', '   47', ' \"W\"', ' \"Salt Lake City\"', ' UT']\n",
      "['   38', '   22', '   11', ' \"N\"', '     75', '   35', '   59', ' \"W\"', ' \"Salisbury\"', ' MD']\n",
      "['   36', '   40', '   11', ' \"N\"', '    121', '   39', '    0', ' \"W\"', ' \"Salinas\"', ' CA']\n",
      "['   38', '   50', '   24', ' \"N\"', '     97', '   36', '   36', ' \"W\"', ' \"Salina\"', ' KS']\n",
      "['   38', '   31', '   47', ' \"N\"', '    106', '    0', '    0', ' \"W\"', ' \"Salida\"', ' CO']\n",
      "['   44', '   56', '   23', ' \"N\"', '    123', '    1', '   47', ' \"W\"', ' \"Salem\"', ' OR']\n",
      "['   44', '   57', '    0', ' \"N\"', '     93', '    5', '   59', ' \"W\"', ' \"Saint Paul\"', ' MN']\n",
      "['   38', '   37', '   11', ' \"N\"', '     90', '   11', '   24', ' \"W\"', ' \"Saint Louis\"', ' MO']\n",
      "['   39', '   46', '   12', ' \"N\"', '     94', '   50', '   23', ' \"W\"', ' \"Saint Joseph\"', ' MO']\n",
      "['   42', '    5', '   59', ' \"N\"', '     86', '   28', '   48', ' \"W\"', ' \"Saint Joseph\"', ' MI']\n",
      "['   44', '   25', '   11', ' \"N\"', '     72', '    1', '   11', ' \"W\"', ' \"Saint Johnsbury\"', ' VT']\n",
      "['   45', '   34', '   11', ' \"N\"', '     94', '   10', '   11', ' \"W\"', ' \"Saint Cloud\"', ' MN']\n",
      "['   29', '   53', '   23', ' \"N\"', '     81', '   19', '   11', ' \"W\"', ' \"Saint Augustine\"', ' FL']\n",
      "['   43', '   25', '   48', ' \"N\"', '     83', '   56', '   24', ' \"W\"', ' \"Saginaw\"', ' MI']\n",
      "['   38', '   35', '   24', ' \"N\"', '    121', '   29', '   23', ' \"W\"', ' \"Sacramento\"', ' CA']\n",
      "['   43', '   36', '   36', ' \"N\"', '     72', '   58', '   12', ' \"W\"', ' \"Rutland\"', ' VT']\n",
      "['   33', '   24', '    0', ' \"N\"', '    104', '   31', '   47', ' \"W\"', ' \"Roswell\"', ' NM']\n",
      "['   35', '   56', '   23', ' \"N\"', '     77', '   48', '    0', ' \"W\"', ' \"Rocky Mount\"', ' NC']\n",
      "['   41', '   35', '   24', ' \"N\"', '    109', '   13', '   48', ' \"W\"', ' \"Rock Springs\"', ' WY']\n",
      "['   42', '   16', '   12', ' \"N\"', '     89', '    5', '   59', ' \"W\"', ' \"Rockford\"', ' IL']\n",
      "['   43', '    9', '   35', ' \"N\"', '     77', '   36', '   36', ' \"W\"', ' \"Rochester\"', ' NY']\n",
      "['   44', '    1', '   12', ' \"N\"', '     92', '   27', '   35', ' \"W\"', ' \"Rochester\"', ' MN']\n",
      "['   37', '   16', '   12', ' \"N\"', '     79', '   56', '   24', ' \"W\"', ' \"Roanoke\"', ' VA']\n",
      "['   37', '   32', '   24', ' \"N\"', '     77', '   26', '   59', ' \"W\"', ' \"Richmond\"', ' VA']\n",
      "['   39', '   49', '   48', ' \"N\"', '     84', '   53', '   23', ' \"W\"', ' \"Richmond\"', ' IN']\n",
      "['   38', '   46', '   12', ' \"N\"', '    112', '    5', '   23', ' \"W\"', ' \"Richfield\"', ' UT']\n",
      "['   45', '   38', '   23', ' \"N\"', '     89', '   25', '   11', ' \"W\"', ' \"Rhinelander\"', ' WI']\n",
      "['   39', '   31', '   12', ' \"N\"', '    119', '   48', '   35', ' \"W\"', ' \"Reno\"', ' NV']\n",
      "['   50', '   25', '   11', ' \"N\"', '    104', '   39', '    0', ' \"W\"', ' \"Regina\"', ' SA']\n",
      "['   40', '   10', '   48', ' \"N\"', '    122', '   14', '   23', ' \"W\"', ' \"Red Bluff\"', ' CA']\n",
      "['   40', '   19', '   48', ' \"N\"', '     75', '   55', '   48', ' \"W\"', ' \"Reading\"', ' PA']\n",
      "['   41', '    9', '   35', ' \"N\"', '     81', '   14', '   23', ' \"W\"', ' \"Ravenna\"', ' OH ']\n",
      "[]\n"
     ]
    }
   ],
   "source": [
    "#csv files\n",
    "\n",
    "#reading content from csv files\n",
    "import csv\n",
    "\n",
    "with open(\"cities.csv\",'r')as f :\n",
    "    c_read = csv.reader(f)\n",
    "    \n",
    "#printing data\n",
    "    for l in c_read :\n",
    "        print(l)\n"
   ]
  },
  {
   "cell_type": "code",
   "execution_count": 29,
   "id": "cf9aac90",
   "metadata": {},
   "outputs": [
    {
     "name": "stdout",
     "output_type": "stream",
     "text": [
      "['oppenheimer', '100']\n",
      "[]\n",
      "['barbie', '0']\n",
      "[]\n"
     ]
    }
   ],
   "source": [
    "#write from 2d list to a csv file\n",
    "\n",
    "momo = [[\"oppenheimer\",100],[\"barbie\",0]]\n",
    "\n",
    "with open(\"movies.csv\",'w') as file :\n",
    "    csvv = csv.writer(file)\n",
    "    csvv.writerows(momo)\n",
    "\n",
    "with open(\"movies.csv\",'r')as f :\n",
    "    c_read = csv.reader(f)\n",
    "    \n",
    "    for l in c_read :\n",
    "        print(l)\n"
   ]
  },
  {
   "cell_type": "code",
   "execution_count": 6,
   "id": "77acb825",
   "metadata": {},
   "outputs": [
    {
     "name": "stdout",
     "output_type": "stream",
     "text": [
      "hi i am  hi\n",
      "None\n",
      "hellooo\n",
      "None\n"
     ]
    }
   ],
   "source": [
    "#inheritance in python oops\n",
    "\n",
    "class A :\n",
    "    def __init__(self,name):\n",
    "        self.name= name\n",
    "    \n",
    "    def speak(self):\n",
    "        print(\"hi i am \",self.name)\n",
    "    \n",
    "class B(A):\n",
    "    def speak(self):\n",
    "        print(\"hellooo\")\n",
    "    \n",
    "a = A(\"hi\")\n",
    "b = B(\"god\")\n",
    "\n",
    "print(a.speak())\n",
    "print(b.speak())"
   ]
  },
  {
   "cell_type": "code",
   "execution_count": 1,
   "id": "c3ae868a",
   "metadata": {},
   "outputs": [
    {
     "ename": "FileNotFoundError",
     "evalue": "[Errno 2] No such file or directory: 'exam_scores.csv'",
     "output_type": "error",
     "traceback": [
      "\u001b[1;31m---------------------------------------------------------------------------\u001b[0m",
      "\u001b[1;31mFileNotFoundError\u001b[0m                         Traceback (most recent call last)",
      "Cell \u001b[1;32mIn[1], line 5\u001b[0m\n\u001b[0;32m      2\u001b[0m \u001b[38;5;28;01mimport\u001b[39;00m \u001b[38;5;21;01mmatplotlib\u001b[39;00m\u001b[38;5;21;01m.\u001b[39;00m\u001b[38;5;21;01mpyplot\u001b[39;00m \u001b[38;5;28;01mas\u001b[39;00m \u001b[38;5;21;01mplt\u001b[39;00m\n\u001b[0;32m      4\u001b[0m \u001b[38;5;66;03m# Read CSV file into a DataFrame\u001b[39;00m\n\u001b[1;32m----> 5\u001b[0m df \u001b[38;5;241m=\u001b[39m \u001b[43mpd\u001b[49m\u001b[38;5;241;43m.\u001b[39;49m\u001b[43mread_csv\u001b[49m\u001b[43m(\u001b[49m\u001b[38;5;124;43m'\u001b[39;49m\u001b[38;5;124;43mexam_scores.csv\u001b[39;49m\u001b[38;5;124;43m'\u001b[39;49m\u001b[43m)\u001b[49m\n\u001b[0;32m      7\u001b[0m \u001b[38;5;66;03m# Calculate statistics\u001b[39;00m\n\u001b[0;32m      8\u001b[0m mean_score \u001b[38;5;241m=\u001b[39m df[\u001b[38;5;124m'\u001b[39m\u001b[38;5;124mScore\u001b[39m\u001b[38;5;124m'\u001b[39m]\u001b[38;5;241m.\u001b[39mmean()\n",
      "File \u001b[1;32m~\\anaconda3\\lib\\site-packages\\pandas\\util\\_decorators.py:211\u001b[0m, in \u001b[0;36mdeprecate_kwarg.<locals>._deprecate_kwarg.<locals>.wrapper\u001b[1;34m(*args, **kwargs)\u001b[0m\n\u001b[0;32m    209\u001b[0m     \u001b[38;5;28;01melse\u001b[39;00m:\n\u001b[0;32m    210\u001b[0m         kwargs[new_arg_name] \u001b[38;5;241m=\u001b[39m new_arg_value\n\u001b[1;32m--> 211\u001b[0m \u001b[38;5;28;01mreturn\u001b[39;00m func(\u001b[38;5;241m*\u001b[39margs, \u001b[38;5;241m*\u001b[39m\u001b[38;5;241m*\u001b[39mkwargs)\n",
      "File \u001b[1;32m~\\anaconda3\\lib\\site-packages\\pandas\\util\\_decorators.py:331\u001b[0m, in \u001b[0;36mdeprecate_nonkeyword_arguments.<locals>.decorate.<locals>.wrapper\u001b[1;34m(*args, **kwargs)\u001b[0m\n\u001b[0;32m    325\u001b[0m \u001b[38;5;28;01mif\u001b[39;00m \u001b[38;5;28mlen\u001b[39m(args) \u001b[38;5;241m>\u001b[39m num_allow_args:\n\u001b[0;32m    326\u001b[0m     warnings\u001b[38;5;241m.\u001b[39mwarn(\n\u001b[0;32m    327\u001b[0m         msg\u001b[38;5;241m.\u001b[39mformat(arguments\u001b[38;5;241m=\u001b[39m_format_argument_list(allow_args)),\n\u001b[0;32m    328\u001b[0m         \u001b[38;5;167;01mFutureWarning\u001b[39;00m,\n\u001b[0;32m    329\u001b[0m         stacklevel\u001b[38;5;241m=\u001b[39mfind_stack_level(),\n\u001b[0;32m    330\u001b[0m     )\n\u001b[1;32m--> 331\u001b[0m \u001b[38;5;28;01mreturn\u001b[39;00m func(\u001b[38;5;241m*\u001b[39margs, \u001b[38;5;241m*\u001b[39m\u001b[38;5;241m*\u001b[39mkwargs)\n",
      "File \u001b[1;32m~\\anaconda3\\lib\\site-packages\\pandas\\io\\parsers\\readers.py:950\u001b[0m, in \u001b[0;36mread_csv\u001b[1;34m(filepath_or_buffer, sep, delimiter, header, names, index_col, usecols, squeeze, prefix, mangle_dupe_cols, dtype, engine, converters, true_values, false_values, skipinitialspace, skiprows, skipfooter, nrows, na_values, keep_default_na, na_filter, verbose, skip_blank_lines, parse_dates, infer_datetime_format, keep_date_col, date_parser, dayfirst, cache_dates, iterator, chunksize, compression, thousands, decimal, lineterminator, quotechar, quoting, doublequote, escapechar, comment, encoding, encoding_errors, dialect, error_bad_lines, warn_bad_lines, on_bad_lines, delim_whitespace, low_memory, memory_map, float_precision, storage_options)\u001b[0m\n\u001b[0;32m    935\u001b[0m kwds_defaults \u001b[38;5;241m=\u001b[39m _refine_defaults_read(\n\u001b[0;32m    936\u001b[0m     dialect,\n\u001b[0;32m    937\u001b[0m     delimiter,\n\u001b[1;32m   (...)\u001b[0m\n\u001b[0;32m    946\u001b[0m     defaults\u001b[38;5;241m=\u001b[39m{\u001b[38;5;124m\"\u001b[39m\u001b[38;5;124mdelimiter\u001b[39m\u001b[38;5;124m\"\u001b[39m: \u001b[38;5;124m\"\u001b[39m\u001b[38;5;124m,\u001b[39m\u001b[38;5;124m\"\u001b[39m},\n\u001b[0;32m    947\u001b[0m )\n\u001b[0;32m    948\u001b[0m kwds\u001b[38;5;241m.\u001b[39mupdate(kwds_defaults)\n\u001b[1;32m--> 950\u001b[0m \u001b[38;5;28;01mreturn\u001b[39;00m \u001b[43m_read\u001b[49m\u001b[43m(\u001b[49m\u001b[43mfilepath_or_buffer\u001b[49m\u001b[43m,\u001b[49m\u001b[43m \u001b[49m\u001b[43mkwds\u001b[49m\u001b[43m)\u001b[49m\n",
      "File \u001b[1;32m~\\anaconda3\\lib\\site-packages\\pandas\\io\\parsers\\readers.py:605\u001b[0m, in \u001b[0;36m_read\u001b[1;34m(filepath_or_buffer, kwds)\u001b[0m\n\u001b[0;32m    602\u001b[0m _validate_names(kwds\u001b[38;5;241m.\u001b[39mget(\u001b[38;5;124m\"\u001b[39m\u001b[38;5;124mnames\u001b[39m\u001b[38;5;124m\"\u001b[39m, \u001b[38;5;28;01mNone\u001b[39;00m))\n\u001b[0;32m    604\u001b[0m \u001b[38;5;66;03m# Create the parser.\u001b[39;00m\n\u001b[1;32m--> 605\u001b[0m parser \u001b[38;5;241m=\u001b[39m TextFileReader(filepath_or_buffer, \u001b[38;5;241m*\u001b[39m\u001b[38;5;241m*\u001b[39mkwds)\n\u001b[0;32m    607\u001b[0m \u001b[38;5;28;01mif\u001b[39;00m chunksize \u001b[38;5;129;01mor\u001b[39;00m iterator:\n\u001b[0;32m    608\u001b[0m     \u001b[38;5;28;01mreturn\u001b[39;00m parser\n",
      "File \u001b[1;32m~\\anaconda3\\lib\\site-packages\\pandas\\io\\parsers\\readers.py:1442\u001b[0m, in \u001b[0;36mTextFileReader.__init__\u001b[1;34m(self, f, engine, **kwds)\u001b[0m\n\u001b[0;32m   1439\u001b[0m     \u001b[38;5;28mself\u001b[39m\u001b[38;5;241m.\u001b[39moptions[\u001b[38;5;124m\"\u001b[39m\u001b[38;5;124mhas_index_names\u001b[39m\u001b[38;5;124m\"\u001b[39m] \u001b[38;5;241m=\u001b[39m kwds[\u001b[38;5;124m\"\u001b[39m\u001b[38;5;124mhas_index_names\u001b[39m\u001b[38;5;124m\"\u001b[39m]\n\u001b[0;32m   1441\u001b[0m \u001b[38;5;28mself\u001b[39m\u001b[38;5;241m.\u001b[39mhandles: IOHandles \u001b[38;5;241m|\u001b[39m \u001b[38;5;28;01mNone\u001b[39;00m \u001b[38;5;241m=\u001b[39m \u001b[38;5;28;01mNone\u001b[39;00m\n\u001b[1;32m-> 1442\u001b[0m \u001b[38;5;28mself\u001b[39m\u001b[38;5;241m.\u001b[39m_engine \u001b[38;5;241m=\u001b[39m \u001b[38;5;28;43mself\u001b[39;49m\u001b[38;5;241;43m.\u001b[39;49m\u001b[43m_make_engine\u001b[49m\u001b[43m(\u001b[49m\u001b[43mf\u001b[49m\u001b[43m,\u001b[49m\u001b[43m \u001b[49m\u001b[38;5;28;43mself\u001b[39;49m\u001b[38;5;241;43m.\u001b[39;49m\u001b[43mengine\u001b[49m\u001b[43m)\u001b[49m\n",
      "File \u001b[1;32m~\\anaconda3\\lib\\site-packages\\pandas\\io\\parsers\\readers.py:1735\u001b[0m, in \u001b[0;36mTextFileReader._make_engine\u001b[1;34m(self, f, engine)\u001b[0m\n\u001b[0;32m   1733\u001b[0m     \u001b[38;5;28;01mif\u001b[39;00m \u001b[38;5;124m\"\u001b[39m\u001b[38;5;124mb\u001b[39m\u001b[38;5;124m\"\u001b[39m \u001b[38;5;129;01mnot\u001b[39;00m \u001b[38;5;129;01min\u001b[39;00m mode:\n\u001b[0;32m   1734\u001b[0m         mode \u001b[38;5;241m+\u001b[39m\u001b[38;5;241m=\u001b[39m \u001b[38;5;124m\"\u001b[39m\u001b[38;5;124mb\u001b[39m\u001b[38;5;124m\"\u001b[39m\n\u001b[1;32m-> 1735\u001b[0m \u001b[38;5;28mself\u001b[39m\u001b[38;5;241m.\u001b[39mhandles \u001b[38;5;241m=\u001b[39m \u001b[43mget_handle\u001b[49m\u001b[43m(\u001b[49m\n\u001b[0;32m   1736\u001b[0m \u001b[43m    \u001b[49m\u001b[43mf\u001b[49m\u001b[43m,\u001b[49m\n\u001b[0;32m   1737\u001b[0m \u001b[43m    \u001b[49m\u001b[43mmode\u001b[49m\u001b[43m,\u001b[49m\n\u001b[0;32m   1738\u001b[0m \u001b[43m    \u001b[49m\u001b[43mencoding\u001b[49m\u001b[38;5;241;43m=\u001b[39;49m\u001b[38;5;28;43mself\u001b[39;49m\u001b[38;5;241;43m.\u001b[39;49m\u001b[43moptions\u001b[49m\u001b[38;5;241;43m.\u001b[39;49m\u001b[43mget\u001b[49m\u001b[43m(\u001b[49m\u001b[38;5;124;43m\"\u001b[39;49m\u001b[38;5;124;43mencoding\u001b[39;49m\u001b[38;5;124;43m\"\u001b[39;49m\u001b[43m,\u001b[49m\u001b[43m \u001b[49m\u001b[38;5;28;43;01mNone\u001b[39;49;00m\u001b[43m)\u001b[49m\u001b[43m,\u001b[49m\n\u001b[0;32m   1739\u001b[0m \u001b[43m    \u001b[49m\u001b[43mcompression\u001b[49m\u001b[38;5;241;43m=\u001b[39;49m\u001b[38;5;28;43mself\u001b[39;49m\u001b[38;5;241;43m.\u001b[39;49m\u001b[43moptions\u001b[49m\u001b[38;5;241;43m.\u001b[39;49m\u001b[43mget\u001b[49m\u001b[43m(\u001b[49m\u001b[38;5;124;43m\"\u001b[39;49m\u001b[38;5;124;43mcompression\u001b[39;49m\u001b[38;5;124;43m\"\u001b[39;49m\u001b[43m,\u001b[49m\u001b[43m \u001b[49m\u001b[38;5;28;43;01mNone\u001b[39;49;00m\u001b[43m)\u001b[49m\u001b[43m,\u001b[49m\n\u001b[0;32m   1740\u001b[0m \u001b[43m    \u001b[49m\u001b[43mmemory_map\u001b[49m\u001b[38;5;241;43m=\u001b[39;49m\u001b[38;5;28;43mself\u001b[39;49m\u001b[38;5;241;43m.\u001b[39;49m\u001b[43moptions\u001b[49m\u001b[38;5;241;43m.\u001b[39;49m\u001b[43mget\u001b[49m\u001b[43m(\u001b[49m\u001b[38;5;124;43m\"\u001b[39;49m\u001b[38;5;124;43mmemory_map\u001b[39;49m\u001b[38;5;124;43m\"\u001b[39;49m\u001b[43m,\u001b[49m\u001b[43m \u001b[49m\u001b[38;5;28;43;01mFalse\u001b[39;49;00m\u001b[43m)\u001b[49m\u001b[43m,\u001b[49m\n\u001b[0;32m   1741\u001b[0m \u001b[43m    \u001b[49m\u001b[43mis_text\u001b[49m\u001b[38;5;241;43m=\u001b[39;49m\u001b[43mis_text\u001b[49m\u001b[43m,\u001b[49m\n\u001b[0;32m   1742\u001b[0m \u001b[43m    \u001b[49m\u001b[43merrors\u001b[49m\u001b[38;5;241;43m=\u001b[39;49m\u001b[38;5;28;43mself\u001b[39;49m\u001b[38;5;241;43m.\u001b[39;49m\u001b[43moptions\u001b[49m\u001b[38;5;241;43m.\u001b[39;49m\u001b[43mget\u001b[49m\u001b[43m(\u001b[49m\u001b[38;5;124;43m\"\u001b[39;49m\u001b[38;5;124;43mencoding_errors\u001b[39;49m\u001b[38;5;124;43m\"\u001b[39;49m\u001b[43m,\u001b[49m\u001b[43m \u001b[49m\u001b[38;5;124;43m\"\u001b[39;49m\u001b[38;5;124;43mstrict\u001b[39;49m\u001b[38;5;124;43m\"\u001b[39;49m\u001b[43m)\u001b[49m\u001b[43m,\u001b[49m\n\u001b[0;32m   1743\u001b[0m \u001b[43m    \u001b[49m\u001b[43mstorage_options\u001b[49m\u001b[38;5;241;43m=\u001b[39;49m\u001b[38;5;28;43mself\u001b[39;49m\u001b[38;5;241;43m.\u001b[39;49m\u001b[43moptions\u001b[49m\u001b[38;5;241;43m.\u001b[39;49m\u001b[43mget\u001b[49m\u001b[43m(\u001b[49m\u001b[38;5;124;43m\"\u001b[39;49m\u001b[38;5;124;43mstorage_options\u001b[39;49m\u001b[38;5;124;43m\"\u001b[39;49m\u001b[43m,\u001b[49m\u001b[43m \u001b[49m\u001b[38;5;28;43;01mNone\u001b[39;49;00m\u001b[43m)\u001b[49m\u001b[43m,\u001b[49m\n\u001b[0;32m   1744\u001b[0m \u001b[43m\u001b[49m\u001b[43m)\u001b[49m\n\u001b[0;32m   1745\u001b[0m \u001b[38;5;28;01massert\u001b[39;00m \u001b[38;5;28mself\u001b[39m\u001b[38;5;241m.\u001b[39mhandles \u001b[38;5;129;01mis\u001b[39;00m \u001b[38;5;129;01mnot\u001b[39;00m \u001b[38;5;28;01mNone\u001b[39;00m\n\u001b[0;32m   1746\u001b[0m f \u001b[38;5;241m=\u001b[39m \u001b[38;5;28mself\u001b[39m\u001b[38;5;241m.\u001b[39mhandles\u001b[38;5;241m.\u001b[39mhandle\n",
      "File \u001b[1;32m~\\anaconda3\\lib\\site-packages\\pandas\\io\\common.py:856\u001b[0m, in \u001b[0;36mget_handle\u001b[1;34m(path_or_buf, mode, encoding, compression, memory_map, is_text, errors, storage_options)\u001b[0m\n\u001b[0;32m    851\u001b[0m \u001b[38;5;28;01melif\u001b[39;00m \u001b[38;5;28misinstance\u001b[39m(handle, \u001b[38;5;28mstr\u001b[39m):\n\u001b[0;32m    852\u001b[0m     \u001b[38;5;66;03m# Check whether the filename is to be opened in binary mode.\u001b[39;00m\n\u001b[0;32m    853\u001b[0m     \u001b[38;5;66;03m# Binary mode does not support 'encoding' and 'newline'.\u001b[39;00m\n\u001b[0;32m    854\u001b[0m     \u001b[38;5;28;01mif\u001b[39;00m ioargs\u001b[38;5;241m.\u001b[39mencoding \u001b[38;5;129;01mand\u001b[39;00m \u001b[38;5;124m\"\u001b[39m\u001b[38;5;124mb\u001b[39m\u001b[38;5;124m\"\u001b[39m \u001b[38;5;129;01mnot\u001b[39;00m \u001b[38;5;129;01min\u001b[39;00m ioargs\u001b[38;5;241m.\u001b[39mmode:\n\u001b[0;32m    855\u001b[0m         \u001b[38;5;66;03m# Encoding\u001b[39;00m\n\u001b[1;32m--> 856\u001b[0m         handle \u001b[38;5;241m=\u001b[39m \u001b[38;5;28;43mopen\u001b[39;49m\u001b[43m(\u001b[49m\n\u001b[0;32m    857\u001b[0m \u001b[43m            \u001b[49m\u001b[43mhandle\u001b[49m\u001b[43m,\u001b[49m\n\u001b[0;32m    858\u001b[0m \u001b[43m            \u001b[49m\u001b[43mioargs\u001b[49m\u001b[38;5;241;43m.\u001b[39;49m\u001b[43mmode\u001b[49m\u001b[43m,\u001b[49m\n\u001b[0;32m    859\u001b[0m \u001b[43m            \u001b[49m\u001b[43mencoding\u001b[49m\u001b[38;5;241;43m=\u001b[39;49m\u001b[43mioargs\u001b[49m\u001b[38;5;241;43m.\u001b[39;49m\u001b[43mencoding\u001b[49m\u001b[43m,\u001b[49m\n\u001b[0;32m    860\u001b[0m \u001b[43m            \u001b[49m\u001b[43merrors\u001b[49m\u001b[38;5;241;43m=\u001b[39;49m\u001b[43merrors\u001b[49m\u001b[43m,\u001b[49m\n\u001b[0;32m    861\u001b[0m \u001b[43m            \u001b[49m\u001b[43mnewline\u001b[49m\u001b[38;5;241;43m=\u001b[39;49m\u001b[38;5;124;43m\"\u001b[39;49m\u001b[38;5;124;43m\"\u001b[39;49m\u001b[43m,\u001b[49m\n\u001b[0;32m    862\u001b[0m \u001b[43m        \u001b[49m\u001b[43m)\u001b[49m\n\u001b[0;32m    863\u001b[0m     \u001b[38;5;28;01melse\u001b[39;00m:\n\u001b[0;32m    864\u001b[0m         \u001b[38;5;66;03m# Binary mode\u001b[39;00m\n\u001b[0;32m    865\u001b[0m         handle \u001b[38;5;241m=\u001b[39m \u001b[38;5;28mopen\u001b[39m(handle, ioargs\u001b[38;5;241m.\u001b[39mmode)\n",
      "\u001b[1;31mFileNotFoundError\u001b[0m: [Errno 2] No such file or directory: 'exam_scores.csv'"
     ]
    }
   ],
   "source": [
    "import pandas as pd\n",
    "import matplotlib.pyplot as plt\n",
    "\n",
    "# Read CSV file into a DataFrame\n",
    "df = pd.read_csv('exam_scores.csv') #give ur file path otherwise it will give errors\n",
    "\n",
    "# Calculate statistics\n",
    "mean_score = df['Score'].mean()\n",
    "median_score = df['Score'].median()\n",
    "max_score = df['Score'].max()\n",
    "min_score = df['Score'].min()\n",
    "\n",
    "# Display statistics\n",
    "print(f\"Mean Score: {mean_score:.2f}\")\n",
    "print(f\"Median Score: {median_score:.2f}\")\n",
    "print(f\"Max Score: {max_score}\")\n",
    "print(f\"Min Score: {min_score}\")\n",
    "\n",
    "# Create a bar chart\n",
    "plt.bar(df['Name'], df['Score'])\n",
    "plt.xlabel('Student Name')\n",
    "plt.ylabel('Score')\n",
    "plt.title('Exam Scores')\n",
    "plt.xticks(rotation=45)\n",
    "plt.tight_layout()\n",
    "\n",
    "# Display the bar chart\n",
    "plt.show()"
   ]
  },
  {
   "cell_type": "code",
   "execution_count": 1,
   "id": "2c97edee",
   "metadata": {},
   "outputs": [],
   "source": [
    "from tkinter import *\n",
    "\n",
    "root = Tk()\n",
    "root.title(\"Simple Calculator\")\n",
    "\n",
    "\n",
    "first_label = Label(root, text=\"First Number: \")\n",
    "first_label.grid(row=0, column=0, columnspan=2, padx=5, pady=5)\n",
    "Second_label = Label(root, text=\"Second Number: \")\n",
    "Second_label.grid(row=1, column=0, columnspan=2, padx=5, pady=5)\n",
    "res_label = Label(root, text=\"Result\")\n",
    "res_label.grid(row=3, column=0, columnspan=2, padx=5, pady=5)\n",
    "\n",
    "first_entry = Entry(root, width=15)\n",
    "first_entry.grid(row=0, column=3, columnspan=2, padx=5, pady=5)\n",
    "second_entry = Entry(root, width=15)\n",
    "second_entry.grid(row=1, column=3, columnspan=2, padx=5, pady=5)\n",
    "\n",
    "res_entry = Entry(root, text=\"\", width=15)\n",
    "res_entry.grid(row=3, column=3, columnspan=2)\n",
    "\n",
    "\n",
    "def add():\n",
    "    num1 = int(first_entry.get())\n",
    "    num2 = int(second_entry.get())\n",
    "    res = num1+num2\n",
    "    res_entry.delete(0, END)\n",
    "    res_entry.insert(0, res)\n",
    "\n",
    "\n",
    "def div():\n",
    "    num1 = int(first_entry.get())\n",
    "    num2 = int(second_entry.get())\n",
    "    res = num1/num2\n",
    "    res_entry.delete(0, END)\n",
    "    res_entry.insert(0, res)\n",
    "\n",
    "\n",
    "def sub():\n",
    "    num1 = int(first_entry.get())\n",
    "    num2 = int(second_entry.get())\n",
    "    res = num1-num2\n",
    "    res_entry.delete(0, END)\n",
    "    res_entry.insert(0, res)\n",
    "\n",
    "\n",
    "def mul():\n",
    "    num1 = int(first_entry.get())\n",
    "    num2 = int(second_entry.get())\n",
    "    res = num1*num2\n",
    "    res_entry.delete(0, END)\n",
    "    res_entry.insert(0, res)\n",
    "\n",
    "\n",
    "add_btn = Button(root, text=\"ADD\", command=add)\n",
    "add_btn.grid(row=2, column=1)\n",
    "sub_btn = Button(root, text=\"SUB\", command=sub)\n",
    "sub_btn.grid(row=2, column=2)\n",
    "div_btn = Button(root, text=\"DIV\", command=div)\n",
    "div_btn.grid(row=2, column=3)\n",
    "mul_btn = Button(root, text=\"MUL\", command=mul)\n",
    "mul_btn.grid(row=2, column=4)\n",
    "\n",
    "root.mainloop()"
   ]
  },
  {
   "cell_type": "code",
   "execution_count": 1,
   "id": "2c88f5fc",
   "metadata": {},
   "outputs": [
    {
     "name": "stdout",
     "output_type": "stream",
     "text": [
      "-10\n"
     ]
    }
   ],
   "source": [
    "x = 10\n",
    "y = 20\n",
    "x = x-y\n",
    "print(x)"
   ]
  },
  {
   "cell_type": "code",
   "execution_count": 4,
   "id": "8dc87476",
   "metadata": {},
   "outputs": [
    {
     "name": "stdout",
     "output_type": "stream",
     "text": [
      "2\n"
     ]
    }
   ],
   "source": [
    "def ct(line,word):\n",
    "    y = line.count(word)\n",
    "    print(y)\n",
    "    \n",
    "line = \"hi ia am omkar and omkar is god\"\n",
    "letter = 'omkar'\n",
    "ct(line,letter)"
   ]
  },
  {
   "cell_type": "code",
   "execution_count": 6,
   "id": "f4e2c917",
   "metadata": {},
   "outputs": [
    {
     "name": "stdout",
     "output_type": "stream",
     "text": [
      "3.58\n",
      "3.579\n"
     ]
    }
   ],
   "source": [
    "x = 3.5789655888995\n",
    "print(round(x,2))\n",
    "print(round(x,3))"
   ]
  },
  {
   "cell_type": "code",
   "execution_count": 8,
   "id": "7c481691",
   "metadata": {},
   "outputs": [
    {
     "name": "stdout",
     "output_type": "stream",
     "text": [
      "10\n",
      "10\n",
      "12\n",
      "11.0\n"
     ]
    }
   ],
   "source": [
    "li = []\n",
    "n = 3\n",
    "\n",
    "for i in range(n):\n",
    "    x = int(input())\n",
    "    li.append(x)\n",
    "\n",
    "li.sort()\n",
    "\n",
    "avg = (li[2]+li[1])/2\n",
    "    \n",
    "print(avg)"
   ]
  },
  {
   "cell_type": "code",
   "execution_count": 11,
   "id": "5c343f8c",
   "metadata": {},
   "outputs": [
    {
     "name": "stdout",
     "output_type": "stream",
     "text": [
      "120\n"
     ]
    }
   ],
   "source": [
    "def fact(n):\n",
    "    if n == 0:\n",
    "        return 1\n",
    "    else :\n",
    "        return n*fact(n-1)\n",
    "        \n",
    "n = 5\n",
    "r = fact(n)\n",
    "print(r)"
   ]
  },
  {
   "cell_type": "code",
   "execution_count": 1,
   "id": "ff2e6d56",
   "metadata": {},
   "outputs": [
    {
     "name": "stdout",
     "output_type": "stream",
     "text": [
      "a occured 4 times\n"
     ]
    }
   ],
   "source": [
    "#program to find occurance of letter\n",
    "\n",
    "def find(line,letter):\n",
    "    y = line.count(letter)\n",
    "    print(f\"{letter} occured {y} times\")\n",
    "\n",
    "line = \"omkar is a abnormal person\"\n",
    "letter = 'a'\n",
    "\n",
    "find(line,letter)"
   ]
  },
  {
   "cell_type": "code",
   "execution_count": 3,
   "id": "ff9ad9a9",
   "metadata": {},
   "outputs": [
    {
     "name": "stdout",
     "output_type": "stream",
     "text": [
      "enTER DOLLERS $5\n",
      "5 dollers are equal to 350 indian rupees\n"
     ]
    }
   ],
   "source": [
    "#progeram to convert dollers to indian rupees\n",
    "\n",
    "def dtR(n):\n",
    "    r = n*70\n",
    "    print(f\"{n} dollers are equal to {r} indian rupees\")\n",
    "\n",
    "n  = int(input(\"enTER DOLLERS $\"))\n",
    "dtR(n)"
   ]
  },
  {
   "cell_type": "code",
   "execution_count": 1,
   "id": "dbc2a8a0",
   "metadata": {},
   "outputs": [],
   "source": [
    "#unit 5 codes\n"
   ]
  },
  {
   "cell_type": "code",
   "execution_count": 9,
   "id": "7cc6ad71",
   "metadata": {},
   "outputs": [],
   "source": [
    "#GUI CODESS\n",
    "from tkinter import *\n",
    "def handle_evnt():\n",
    "    x = Name.get()\n",
    "    greetLBL.config (text = f\"Helloo,{x}!!!\")\n",
    "\n",
    "root = Tk()\n",
    "root.title(\"Say My Name\")\n",
    "\n",
    "\n",
    "l1 = Label(root, text = \"Enter Your name :\")\n",
    "l1.pack()\n",
    "\n",
    "Name = Entry(root)\n",
    "Name.pack()\n",
    "\n",
    "btn = Button(root,text=\"Say Hello\",command = handle_evnt)\n",
    "btn.pack()\n",
    "\n",
    "greetLBL = Label(root,text = '')\n",
    "greetLBL.pack()\n",
    "\n",
    "\n",
    "root.mainloop()"
   ]
  },
  {
   "cell_type": "code",
   "execution_count": 12,
   "id": "86b69bdb",
   "metadata": {},
   "outputs": [
    {
     "name": "stdout",
     "output_type": "stream",
     "text": [
      "             age      salary\n",
      "count   4.000000    4.000000\n",
      "mean   12.500000  350.000000\n",
      "std     1.290994  129.099445\n",
      "min    11.000000  200.000000\n",
      "25%    11.750000  275.000000\n",
      "50%    12.500000  350.000000\n",
      "75%    13.250000  425.000000\n",
      "max    14.000000  500.000000\n"
     ]
    }
   ],
   "source": [
    "#using pandas for stats\n",
    "\n",
    "import pandas as pd\n",
    "data = {\n",
    "    'age':[11,12,13,14],\n",
    "    'salary':[200,300,400,500]\n",
    "    \n",
    "}\n",
    "df = pd.DataFrame(data)\n",
    "summ = df.describe()\n",
    "print(summ)"
   ]
  },
  {
   "cell_type": "code",
   "execution_count": 24,
   "id": "cc4de217",
   "metadata": {},
   "outputs": [
    {
     "name": "stdout",
     "output_type": "stream",
     "text": [
      "mean is 12.5\n",
      "median is 350.0\n",
      "minimum age  is 11\n",
      "maximum age  is 14\n"
     ]
    }
   ],
   "source": [
    "#various Functions to Manipulate\n",
    "#1.mean function\n",
    "mean_age = df['age'].mean()\n",
    "print(f\"mean is {mean_age}\")\n",
    "\n",
    "#median function\n",
    "med  =df['salary'].median()\n",
    "print(f\"median is {med}\")\n",
    "\n",
    "# min function\n",
    "minimun = df['age'].min()\n",
    "print(f\"minimum age  is {minimun}\")\n",
    "\n",
    "#max function \n",
    "maxx = df['age'].max()\n",
    "print(f\"maximum age  is {maxx}\")"
   ]
  },
  {
   "cell_type": "code",
   "execution_count": 27,
   "id": "35191985",
   "metadata": {},
   "outputs": [],
   "source": [
    "#plotting using matplotlib codes\n",
    "import matplotlib.pyplot as plt\n",
    "\n"
   ]
  },
  {
   "cell_type": "code",
   "execution_count": null,
   "id": "7d3721c9",
   "metadata": {},
   "outputs": [],
   "source": []
  }
 ],
 "metadata": {
  "kernelspec": {
   "display_name": "Python 3 (ipykernel)",
   "language": "python",
   "name": "python3"
  },
  "language_info": {
   "codemirror_mode": {
    "name": "ipython",
    "version": 3
   },
   "file_extension": ".py",
   "mimetype": "text/x-python",
   "name": "python",
   "nbconvert_exporter": "python",
   "pygments_lexer": "ipython3",
   "version": "3.10.9"
  }
 },
 "nbformat": 4,
 "nbformat_minor": 5
}
