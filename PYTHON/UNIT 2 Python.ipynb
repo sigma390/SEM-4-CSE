{
 "cells": [
  {
   "cell_type": "code",
   "execution_count": 1,
   "id": "afbaab06",
   "metadata": {},
   "outputs": [],
   "source": [
    "#===> [ Shree Ganeshay Namah ] <=====\n",
    "\n",
    "#LISTS\n",
    "\n",
    "li = [1,2,3,4,56]\n",
    "\n",
    "#LIST METHODS\n",
    "\n"
   ]
  },
  {
   "cell_type": "code",
   "execution_count": 2,
   "id": "e8310ec0",
   "metadata": {},
   "outputs": [
    {
     "data": {
      "text/plain": [
       "[1, 2, 3, 4, 56, 45, 45]"
      ]
     },
     "execution_count": 2,
     "metadata": {},
     "output_type": "execute_result"
    }
   ],
   "source": [
    "#1.append()\n",
    "\n",
    "li.append(45)\n",
    "li"
   ]
  },
  {
   "cell_type": "code",
   "execution_count": 3,
   "id": "c33a4eb0",
   "metadata": {},
   "outputs": [
    {
     "data": {
      "text/plain": [
       "[2, 3, 4, 56, 45, 45]"
      ]
     },
     "execution_count": 3,
     "metadata": {},
     "output_type": "execute_result"
    }
   ],
   "source": [
    "#2.pop()\n",
    "li.pop(0)\n",
    "li"
   ]
  },
  {
   "cell_type": "code",
   "execution_count": 5,
   "id": "3168d189",
   "metadata": {},
   "outputs": [
    {
     "data": {
      "text/plain": [
       "[2, 3, 4, 56, 45, 45]"
      ]
     },
     "execution_count": 5,
     "metadata": {},
     "output_type": "execute_result"
    }
   ],
   "source": [
    "#extend\n",
    "li2 = []\n",
    "li2.extend(li)\n",
    "li2"
   ]
  },
  {
   "cell_type": "code",
   "execution_count": 6,
   "id": "bcadfe74",
   "metadata": {},
   "outputs": [
    {
     "data": {
      "text/plain": [
       "2"
      ]
     },
     "execution_count": 6,
     "metadata": {},
     "output_type": "execute_result"
    }
   ],
   "source": [
    "#count fxn\n",
    "li.count(45)"
   ]
  },
  {
   "cell_type": "code",
   "execution_count": 10,
   "id": "ea73dc44",
   "metadata": {},
   "outputs": [],
   "source": [
    "#string to list\n",
    "s = \"omkar\"\n",
    "r = list(s)"
   ]
  },
  {
   "cell_type": "code",
   "execution_count": 12,
   "id": "8e5e19cf",
   "metadata": {},
   "outputs": [
    {
     "data": {
      "text/plain": [
       "1"
      ]
     },
     "execution_count": 12,
     "metadata": {},
     "output_type": "execute_result"
    }
   ],
   "source": [
    "r.count('a')\n"
   ]
  },
  {
   "cell_type": "code",
   "execution_count": 20,
   "id": "312b42f2",
   "metadata": {},
   "outputs": [],
   "source": [
    "#indexing and slicing\n",
    "import numpy as np\n",
    "import random\n"
   ]
  },
  {
   "cell_type": "code",
   "execution_count": 24,
   "id": "eb50da85",
   "metadata": {},
   "outputs": [],
   "source": [
    "li = np.linspace(0,10,10,dtype=int)"
   ]
  },
  {
   "cell_type": "code",
   "execution_count": 26,
   "id": "d2df2153",
   "metadata": {},
   "outputs": [],
   "source": [
    "r = list(li)"
   ]
  },
  {
   "cell_type": "code",
   "execution_count": 27,
   "id": "78f04c92",
   "metadata": {},
   "outputs": [
    {
     "data": {
      "text/plain": [
       "[0, 1, 2, 3, 4, 5, 6, 7, 8, 10]"
      ]
     },
     "execution_count": 27,
     "metadata": {},
     "output_type": "execute_result"
    }
   ],
   "source": [
    "r"
   ]
  },
  {
   "cell_type": "code",
   "execution_count": 28,
   "id": "4b0a25e2",
   "metadata": {},
   "outputs": [
    {
     "data": {
      "text/plain": [
       "[1, 2, 3, 4]"
      ]
     },
     "execution_count": 28,
     "metadata": {},
     "output_type": "execute_result"
    }
   ],
   "source": [
    "#slicing\n",
    "r[1:5] #index 5 excluded and 1 included"
   ]
  },
  {
   "cell_type": "code",
   "execution_count": 29,
   "id": "938290cc",
   "metadata": {},
   "outputs": [
    {
     "data": {
      "text/plain": [
       "10"
      ]
     },
     "execution_count": 29,
     "metadata": {},
     "output_type": "execute_result"
    }
   ],
   "source": [
    "#-ve indexing\n",
    "r[-1]\n"
   ]
  },
  {
   "cell_type": "code",
   "execution_count": 30,
   "id": "15c1fb69",
   "metadata": {},
   "outputs": [
    {
     "data": {
      "text/plain": [
       "[7, 8]"
      ]
     },
     "execution_count": 30,
     "metadata": {},
     "output_type": "execute_result"
    }
   ],
   "source": [
    "#-ve slicing\n",
    "r[-3:-1]"
   ]
  },
  {
   "cell_type": "code",
   "execution_count": 31,
   "id": "8b5741ca",
   "metadata": {},
   "outputs": [
    {
     "data": {
      "text/plain": [
       "[0, 2, 4, 6, 8]"
      ]
     },
     "execution_count": 31,
     "metadata": {},
     "output_type": "execute_result"
    }
   ],
   "source": [
    "#slicing with a step\n",
    "r[::2]#2 indicate step"
   ]
  },
  {
   "cell_type": "code",
   "execution_count": 40,
   "id": "00fd9de1",
   "metadata": {},
   "outputs": [
    {
     "name": "stdout",
     "output_type": "stream",
     "text": [
      "0.4215946927212487\n",
      "10\n"
     ]
    }
   ],
   "source": [
    "# generate random numbers \n",
    "import random\n",
    "\n",
    "z = random.random()\n",
    "print(z)\n",
    "i = random.randint(10,20)\n",
    "print(i)"
   ]
  },
  {
   "cell_type": "code",
   "execution_count": 46,
   "id": "f5292427",
   "metadata": {},
   "outputs": [
    {
     "name": "stdout",
     "output_type": "stream",
     "text": [
      "6.708203932499369\n",
      "3.141592653589793\n",
      "3.2188758248682006\n",
      "-0.9880316240928618\n",
      "16.0\n"
     ]
    }
   ],
   "source": [
    "#maths functions\n",
    "import math\n",
    "\n",
    "print(math.sqrt(45))\n",
    "print(math.pi)\n",
    "print(math.log(25))\n",
    "print(math.sin(30))\n",
    "print(math.pow(2,4))"
   ]
  },
  {
   "cell_type": "code",
   "execution_count": 59,
   "id": "f42917e0",
   "metadata": {},
   "outputs": [
    {
     "name": "stdout",
     "output_type": "stream",
     "text": [
      "1\n",
      "('mango', 3, 'russian')\n",
      "2\n",
      "3\n",
      "they are equal\n"
     ]
    }
   ],
   "source": [
    "#tupels\n",
    "\n",
    "t = (1,'mango',3,'russian','indian',2.4456,'russian','noty hora ke')\n",
    "#most of list methods are applied\n",
    "\n",
    "#indexing , slicing, count , assigning just like lists\n",
    "\n",
    "#1.indexing\n",
    "print(t[0])\n",
    "\n",
    "\n",
    "#2.slicing\n",
    "print(t[1:4])\n",
    "\n",
    "\n",
    "#3.count ocurance\n",
    "print(t.count('russian'))\n",
    "\n",
    "#4.index of\n",
    "print(t.index('russian'))\n",
    "\n",
    "\n",
    "#5.comparing tupelss\n",
    "\n",
    "t1 = (1,2,3,4)\n",
    "t2 = (1,2,3,4)\n",
    "\n",
    "if t1 == t2 :\n",
    "    print(\"they are equal\")\n",
    "else :\n",
    "    print(\"NoT equal\")\n",
    "    \n",
    "#tupels trap\n",
    "\n",
    "tup = (3)# its not a tupel \n",
    "#while\n",
    "top = (3,) #is considered as tupel\n",
    "\n",
    "    "
   ]
  },
  {
   "cell_type": "code",
   "execution_count": 68,
   "id": "77b87727",
   "metadata": {},
   "outputs": [
    {
     "name": "stdout",
     "output_type": "stream",
     "text": [
      "hii how r u ?\n",
      "three three three \n",
      "GOJO : it \n",
      "['GOJO : it will be fine afterall ', ' i am the strongest']\n"
     ]
    }
   ],
   "source": [
    "#working with string\n",
    "\n",
    "#1.concatination\n",
    "\n",
    "s1 = \"hii \"\n",
    "s2 = \"how r u ?\"\n",
    "print(s1+s2)\n",
    "\n",
    "#2.repetation\n",
    "res = \"three \"*3\n",
    "print(res)\n",
    "\n",
    "#3.indexing and slicing \n",
    "reg = \"GOJO : it will be fine afterall , i am the strongest\"\n",
    "print(reg[0:10]) #it counts space as 1 character\n",
    "\n",
    "\n",
    "#some string methods \n",
    "#1.upper , lower , split, strip , join , replace\n",
    "#format is str.upper() or str.method()\n",
    "\n",
    "splitReg = reg.split(',')\n",
    "print(splitReg)"
   ]
  },
  {
   "cell_type": "code",
   "execution_count": null,
   "id": "dfa31da1",
   "metadata": {},
   "outputs": [],
   "source": []
  }
 ],
 "metadata": {
  "kernelspec": {
   "display_name": "Python 3 (ipykernel)",
   "language": "python",
   "name": "python3"
  },
  "language_info": {
   "codemirror_mode": {
    "name": "ipython",
    "version": 3
   },
   "file_extension": ".py",
   "mimetype": "text/x-python",
   "name": "python",
   "nbconvert_exporter": "python",
   "pygments_lexer": "ipython3",
   "version": "3.10.9"
  }
 },
 "nbformat": 4,
 "nbformat_minor": 5
}
